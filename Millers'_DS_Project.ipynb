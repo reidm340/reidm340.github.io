{
  "cells": [
    {
      "cell_type": "markdown",
      "metadata": {
        "id": "MBeqKr76VRWx"
      },
      "source": [
        "Reid Miller, Henry Miller:\n",
        "\n",
        "[Data Science Project](https://github.com/reidm340/reidm340.github.io)"
      ]
    },
    {
      "cell_type": "markdown",
      "metadata": {
        "id": "oPkMX3oRjyuN"
      },
      "source": [
        "#Internal Notes"
      ]
    },
    {
      "cell_type": "markdown",
      "metadata": {
        "id": "fzqx7-gI2gcz"
      },
      "source": [
        "To-Do 3/10:\n",
        "\n",
        "*   Coach dataset https://www.kaggle.com/datasets/jacobbaruch/nba-head-coaches\n",
        "*   Fantasy point column\n",
        "*   Make new standardized DataFrame\n",
        "*   Groupby functions, by season, by season and team\n",
        "\n",
        "To-Do list in order\n",
        " - [ ] How many players play in total in fantasy basketball per leauge and amount of players per team.\n",
        " - [ ] compare total number trends between seasons\n",
        " - [ ] scale the data (by season)\n",
        " - [ ] Find \"star players\"\n",
        " - [ ] run at least 5 ai fun stuff on our data\n",
        " - [ ] what postions are the best for fantasy (in the flex spot)\n",
        " - [ ] describe how players are on each fantasy roster\n",
        " - [ ] given a player changes team how do we expect them to do in the following season\n",
        " - [ ] we can do all of these for AFP and FP\n",
        " - [ ] predict 22-23 stats and see variation for over and under representation\n",
        " - [ ] look at rookie averages (played at least 40 games to qualify)\n",
        " - [ ] rank them by postion and run everything again isolating for postion\n",
        "\n",
        "\n",
        "\n"
      ]
    },
    {
      "cell_type": "markdown",
      "metadata": {
        "id": "PyaERbVGVqXi"
      },
      "source": [
        "To-do list for milestone"
      ]
    },
    {
      "cell_type": "code",
      "execution_count": null,
      "metadata": {
        "id": "06voWVpcUq0I"
      },
      "outputs": [],
      "source": []
    },
    {
      "cell_type": "markdown",
      "metadata": {
        "id": "DjA6NkRZUiaq"
      },
      "source": [
        "# Introduction"
      ]
    },
    {
      "cell_type": "markdown",
      "metadata": {
        "id": "HUXlUbVvTZI-"
      },
      "source": [
        "Writeup:\n",
        "\n",
        "For our project, our group (Henry Miller and Reid Miller) will be attempting to predict the best choices for fantasy basketball leagues. The main dataset we will be using is “NBA_Player_Stats_2.csv,” which we extracted from the website Kaggle. It contains data on every NBA player from the 1996-97 season through the 2021-22 season, along with the following information: Player (player's name), Pos (position), Age (player's age), G (games played), GS (games started), MP (minutes played), FG (field goals made), FGA (field goals attempted), FG% (field goal percentage), 3P (3-pointers made), 3PA (3-pointers attempted), 3P% (3-point percentage), 2P (2-pointers made), 2PA (2-pointers attempted), 2P% (2-point percentage), eFG% (effective field goal percentage), FT (free throws made), FTA (free throws attempted), FT% (free throw percentage), ORB (offensive rebounds), DRB (defensive rebounds), TRB (total rebounds), AST (assists), STL (steals), BLK (blocks), TOV (turnovers), PF (personal fouls), PTS (points), Season (season these stats are for), and MVP (boolean value which is 1 when the player wins MVP). All stats are measured on a per-game average.\n",
        "\n",
        "This dataset will be extremely useful because it contains all the stats that are used in fantasy basketball scoring for such a large sample of players and seasons. While there are a variety of scoring systems used in different fantasy basketball leagues (Rotisserie, Season Points, Head-to-Head: Points, Head-to-Head: Each Category), they are all based on the information above in some form. This means that we will be able to accurately recreate any individual’s fantasy output from any of these seasons, and that we will able to analyze the stats that directly affect fantasy success."
      ]
    },
    {
      "cell_type": "markdown",
      "metadata": {
        "id": "92WEwVY8Thf-"
      },
      "source": [
        "Collaboration Plan:\n",
        "\n",
        "We have met to organize our collaboration plan, and we have decided that we will meet weekly on Sundays at 2:00 PM. During these meetings, we will touch base about our progress over the previous week and plan out goals for the coming week. We plan to use Google Colab to work on this project. We understand that two people working on the same Colab project at the same time can cause information to be overwritten, so we have decided to add any new work on a personal copy of our project before copying and pasting it over to the main one. We also plan to inform the other group-member whenever we plan to update the main project file. This ensures that we do not encounter problems with overwriting while working on this project, but are still able to make progress without any impediment.\n"
      ]
    },
    {
      "cell_type": "markdown",
      "metadata": {
        "id": "O4r-HYMiviZy"
      },
      "source": [
        "For this project, we unitlized Python 3, pandas, maplotlib, and more. Our first code cell will be importing the necessary libraries."
      ]
    },
    {
      "cell_type": "code",
      "execution_count": null,
      "metadata": {
        "colab": {
          "base_uri": "https://localhost:8080/"
        },
        "id": "mow2Y2wvvHVe",
        "outputId": "fd7dd635-e777-409b-869c-caef0d9d7036"
      },
      "outputs": [
        {
          "output_type": "stream",
          "name": "stdout",
          "text": [
            "Cloning into 'reidm340.github.io'...\n",
            "remote: Enumerating objects: 37, done.\u001b[K\n",
            "remote: Counting objects: 100% (37/37), done.\u001b[K\n",
            "remote: Compressing objects: 100% (35/35), done.\u001b[K\n",
            "remote: Total 37 (delta 11), reused 6 (delta 0), pack-reused 0\u001b[K\n",
            "Receiving objects: 100% (37/37), 1.29 MiB | 5.01 MiB/s, done.\n",
            "Resolving deltas: 100% (11/11), done.\n",
            "/content/reidm340.github.io/raw_data\n"
          ]
        }
      ],
      "source": [
        "!git clone https://github.com/reidm340/reidm340.github.io\n",
        "%cd /content/reidm340.github.io/raw_data\n",
        "\n",
        "import pandas as pd\n",
        "import matplotlib\n",
        "import matplotlib.pyplot as plt\n",
        "import re\n",
        "import numpy as np\n",
        "from itertools import cycle\n",
        "import seaborn as sns"
      ]
    },
    {
      "cell_type": "markdown",
      "metadata": {
        "id": "VfSoBgeCU27p"
      },
      "source": [
        "# Formating The Data"
      ]
    },
    {
      "cell_type": "markdown",
      "metadata": {
        "id": "BxD-gwd8VOnl"
      },
      "source": [
        "##Loading in the data set"
      ]
    },
    {
      "cell_type": "markdown",
      "metadata": {
        "id": "ciM2_ZF5vhhh"
      },
      "source": [
        "This dataset was extracted from [Kaggle](https://www.kaggle.com/datasets/raunakpandey030/nba-player-stats/data). It contains all of the nba individual player stats from 1997-98 season through 2021-22 season."
      ]
    },
    {
      "cell_type": "markdown",
      "metadata": {
        "id": "Z7CSuDQ1wOkV"
      },
      "source": [
        "To load this data, I utilized pandas' read_csv(). The head of the table (without any transformation or cleaning) is displayed below."
      ]
    },
    {
      "cell_type": "code",
      "execution_count": null,
      "metadata": {
        "id": "PLAvduT6wUX9"
      },
      "outputs": [],
      "source": [
        "nbaPStats = pd.read_csv('NBA_Player_Stats_2.csv')"
      ]
    },
    {
      "cell_type": "code",
      "execution_count": null,
      "metadata": {
        "colab": {
          "base_uri": "https://localhost:8080/",
          "height": 236
        },
        "id": "3M41k5Ngw4cg",
        "outputId": "d1b662b1-e3a4-4b9d-c54a-cbe70a7a2d3a"
      },
      "outputs": [
        {
          "output_type": "execute_result",
          "data": {
            "text/plain": [
              "   Rk               Player Pos  Age   Tm   G  GS    MP   FG   FGA  ...  DRB  \\\n",
              "0   1   Mahmoud Abdul-Rauf  PG   28  SAC  31   0  17.1  3.3   8.8  ...  1.0   \n",
              "1   2    Tariq Abdul-Wahad  SG   23  SAC  59  16  16.3  2.4   6.1  ...  1.2   \n",
              "2   3  Shareef Abdur-Rahim  SF   21  VAN  82  82  36.0  8.0  16.4  ...  4.3   \n",
              "3   4       Cory Alexander  PG   24  TOT  60  22  21.6  2.9   6.7  ...  2.2   \n",
              "4   4       Cory Alexander  PG   24  SAS  37   3  13.5  1.6   3.9  ...  1.1   \n",
              "\n",
              "   TRB  AST  STL  BLK  TOV   PF   PTS   Season    MVP  \n",
              "0  1.2  1.9  0.5  0.0  0.6  1.0   7.3  1997-98  False  \n",
              "1  2.0  0.9  0.6  0.2  1.1  1.4   6.4  1997-98  False  \n",
              "2  7.1  2.6  1.1  0.9  3.1  2.5  22.3  1997-98  False  \n",
              "3  2.4  3.5  1.2  0.2  1.9  1.6   8.1  1997-98  False  \n",
              "4  1.3  1.9  0.7  0.1  1.3  1.4   4.5  1997-98  False  \n",
              "\n",
              "[5 rows x 32 columns]"
            ],
            "text/html": [
              "\n",
              "  <div id=\"df-b0cf6eed-7356-479c-b28f-b104fc9ff27a\" class=\"colab-df-container\">\n",
              "    <div>\n",
              "<style scoped>\n",
              "    .dataframe tbody tr th:only-of-type {\n",
              "        vertical-align: middle;\n",
              "    }\n",
              "\n",
              "    .dataframe tbody tr th {\n",
              "        vertical-align: top;\n",
              "    }\n",
              "\n",
              "    .dataframe thead th {\n",
              "        text-align: right;\n",
              "    }\n",
              "</style>\n",
              "<table border=\"1\" class=\"dataframe\">\n",
              "  <thead>\n",
              "    <tr style=\"text-align: right;\">\n",
              "      <th></th>\n",
              "      <th>Rk</th>\n",
              "      <th>Player</th>\n",
              "      <th>Pos</th>\n",
              "      <th>Age</th>\n",
              "      <th>Tm</th>\n",
              "      <th>G</th>\n",
              "      <th>GS</th>\n",
              "      <th>MP</th>\n",
              "      <th>FG</th>\n",
              "      <th>FGA</th>\n",
              "      <th>...</th>\n",
              "      <th>DRB</th>\n",
              "      <th>TRB</th>\n",
              "      <th>AST</th>\n",
              "      <th>STL</th>\n",
              "      <th>BLK</th>\n",
              "      <th>TOV</th>\n",
              "      <th>PF</th>\n",
              "      <th>PTS</th>\n",
              "      <th>Season</th>\n",
              "      <th>MVP</th>\n",
              "    </tr>\n",
              "  </thead>\n",
              "  <tbody>\n",
              "    <tr>\n",
              "      <th>0</th>\n",
              "      <td>1</td>\n",
              "      <td>Mahmoud Abdul-Rauf</td>\n",
              "      <td>PG</td>\n",
              "      <td>28</td>\n",
              "      <td>SAC</td>\n",
              "      <td>31</td>\n",
              "      <td>0</td>\n",
              "      <td>17.1</td>\n",
              "      <td>3.3</td>\n",
              "      <td>8.8</td>\n",
              "      <td>...</td>\n",
              "      <td>1.0</td>\n",
              "      <td>1.2</td>\n",
              "      <td>1.9</td>\n",
              "      <td>0.5</td>\n",
              "      <td>0.0</td>\n",
              "      <td>0.6</td>\n",
              "      <td>1.0</td>\n",
              "      <td>7.3</td>\n",
              "      <td>1997-98</td>\n",
              "      <td>False</td>\n",
              "    </tr>\n",
              "    <tr>\n",
              "      <th>1</th>\n",
              "      <td>2</td>\n",
              "      <td>Tariq Abdul-Wahad</td>\n",
              "      <td>SG</td>\n",
              "      <td>23</td>\n",
              "      <td>SAC</td>\n",
              "      <td>59</td>\n",
              "      <td>16</td>\n",
              "      <td>16.3</td>\n",
              "      <td>2.4</td>\n",
              "      <td>6.1</td>\n",
              "      <td>...</td>\n",
              "      <td>1.2</td>\n",
              "      <td>2.0</td>\n",
              "      <td>0.9</td>\n",
              "      <td>0.6</td>\n",
              "      <td>0.2</td>\n",
              "      <td>1.1</td>\n",
              "      <td>1.4</td>\n",
              "      <td>6.4</td>\n",
              "      <td>1997-98</td>\n",
              "      <td>False</td>\n",
              "    </tr>\n",
              "    <tr>\n",
              "      <th>2</th>\n",
              "      <td>3</td>\n",
              "      <td>Shareef Abdur-Rahim</td>\n",
              "      <td>SF</td>\n",
              "      <td>21</td>\n",
              "      <td>VAN</td>\n",
              "      <td>82</td>\n",
              "      <td>82</td>\n",
              "      <td>36.0</td>\n",
              "      <td>8.0</td>\n",
              "      <td>16.4</td>\n",
              "      <td>...</td>\n",
              "      <td>4.3</td>\n",
              "      <td>7.1</td>\n",
              "      <td>2.6</td>\n",
              "      <td>1.1</td>\n",
              "      <td>0.9</td>\n",
              "      <td>3.1</td>\n",
              "      <td>2.5</td>\n",
              "      <td>22.3</td>\n",
              "      <td>1997-98</td>\n",
              "      <td>False</td>\n",
              "    </tr>\n",
              "    <tr>\n",
              "      <th>3</th>\n",
              "      <td>4</td>\n",
              "      <td>Cory Alexander</td>\n",
              "      <td>PG</td>\n",
              "      <td>24</td>\n",
              "      <td>TOT</td>\n",
              "      <td>60</td>\n",
              "      <td>22</td>\n",
              "      <td>21.6</td>\n",
              "      <td>2.9</td>\n",
              "      <td>6.7</td>\n",
              "      <td>...</td>\n",
              "      <td>2.2</td>\n",
              "      <td>2.4</td>\n",
              "      <td>3.5</td>\n",
              "      <td>1.2</td>\n",
              "      <td>0.2</td>\n",
              "      <td>1.9</td>\n",
              "      <td>1.6</td>\n",
              "      <td>8.1</td>\n",
              "      <td>1997-98</td>\n",
              "      <td>False</td>\n",
              "    </tr>\n",
              "    <tr>\n",
              "      <th>4</th>\n",
              "      <td>4</td>\n",
              "      <td>Cory Alexander</td>\n",
              "      <td>PG</td>\n",
              "      <td>24</td>\n",
              "      <td>SAS</td>\n",
              "      <td>37</td>\n",
              "      <td>3</td>\n",
              "      <td>13.5</td>\n",
              "      <td>1.6</td>\n",
              "      <td>3.9</td>\n",
              "      <td>...</td>\n",
              "      <td>1.1</td>\n",
              "      <td>1.3</td>\n",
              "      <td>1.9</td>\n",
              "      <td>0.7</td>\n",
              "      <td>0.1</td>\n",
              "      <td>1.3</td>\n",
              "      <td>1.4</td>\n",
              "      <td>4.5</td>\n",
              "      <td>1997-98</td>\n",
              "      <td>False</td>\n",
              "    </tr>\n",
              "  </tbody>\n",
              "</table>\n",
              "<p>5 rows × 32 columns</p>\n",
              "</div>\n",
              "    <div class=\"colab-df-buttons\">\n",
              "\n",
              "  <div class=\"colab-df-container\">\n",
              "    <button class=\"colab-df-convert\" onclick=\"convertToInteractive('df-b0cf6eed-7356-479c-b28f-b104fc9ff27a')\"\n",
              "            title=\"Convert this dataframe to an interactive table.\"\n",
              "            style=\"display:none;\">\n",
              "\n",
              "  <svg xmlns=\"http://www.w3.org/2000/svg\" height=\"24px\" viewBox=\"0 -960 960 960\">\n",
              "    <path d=\"M120-120v-720h720v720H120Zm60-500h600v-160H180v160Zm220 220h160v-160H400v160Zm0 220h160v-160H400v160ZM180-400h160v-160H180v160Zm440 0h160v-160H620v160ZM180-180h160v-160H180v160Zm440 0h160v-160H620v160Z\"/>\n",
              "  </svg>\n",
              "    </button>\n",
              "\n",
              "  <style>\n",
              "    .colab-df-container {\n",
              "      display:flex;\n",
              "      gap: 12px;\n",
              "    }\n",
              "\n",
              "    .colab-df-convert {\n",
              "      background-color: #E8F0FE;\n",
              "      border: none;\n",
              "      border-radius: 50%;\n",
              "      cursor: pointer;\n",
              "      display: none;\n",
              "      fill: #1967D2;\n",
              "      height: 32px;\n",
              "      padding: 0 0 0 0;\n",
              "      width: 32px;\n",
              "    }\n",
              "\n",
              "    .colab-df-convert:hover {\n",
              "      background-color: #E2EBFA;\n",
              "      box-shadow: 0px 1px 2px rgba(60, 64, 67, 0.3), 0px 1px 3px 1px rgba(60, 64, 67, 0.15);\n",
              "      fill: #174EA6;\n",
              "    }\n",
              "\n",
              "    .colab-df-buttons div {\n",
              "      margin-bottom: 4px;\n",
              "    }\n",
              "\n",
              "    [theme=dark] .colab-df-convert {\n",
              "      background-color: #3B4455;\n",
              "      fill: #D2E3FC;\n",
              "    }\n",
              "\n",
              "    [theme=dark] .colab-df-convert:hover {\n",
              "      background-color: #434B5C;\n",
              "      box-shadow: 0px 1px 3px 1px rgba(0, 0, 0, 0.15);\n",
              "      filter: drop-shadow(0px 1px 2px rgba(0, 0, 0, 0.3));\n",
              "      fill: #FFFFFF;\n",
              "    }\n",
              "  </style>\n",
              "\n",
              "    <script>\n",
              "      const buttonEl =\n",
              "        document.querySelector('#df-b0cf6eed-7356-479c-b28f-b104fc9ff27a button.colab-df-convert');\n",
              "      buttonEl.style.display =\n",
              "        google.colab.kernel.accessAllowed ? 'block' : 'none';\n",
              "\n",
              "      async function convertToInteractive(key) {\n",
              "        const element = document.querySelector('#df-b0cf6eed-7356-479c-b28f-b104fc9ff27a');\n",
              "        const dataTable =\n",
              "          await google.colab.kernel.invokeFunction('convertToInteractive',\n",
              "                                                    [key], {});\n",
              "        if (!dataTable) return;\n",
              "\n",
              "        const docLinkHtml = 'Like what you see? Visit the ' +\n",
              "          '<a target=\"_blank\" href=https://colab.research.google.com/notebooks/data_table.ipynb>data table notebook</a>'\n",
              "          + ' to learn more about interactive tables.';\n",
              "        element.innerHTML = '';\n",
              "        dataTable['output_type'] = 'display_data';\n",
              "        await google.colab.output.renderOutput(dataTable, element);\n",
              "        const docLink = document.createElement('div');\n",
              "        docLink.innerHTML = docLinkHtml;\n",
              "        element.appendChild(docLink);\n",
              "      }\n",
              "    </script>\n",
              "  </div>\n",
              "\n",
              "\n",
              "<div id=\"df-b4b6fa15-de2b-4656-bf94-2bb09f91a239\">\n",
              "  <button class=\"colab-df-quickchart\" onclick=\"quickchart('df-b4b6fa15-de2b-4656-bf94-2bb09f91a239')\"\n",
              "            title=\"Suggest charts\"\n",
              "            style=\"display:none;\">\n",
              "\n",
              "<svg xmlns=\"http://www.w3.org/2000/svg\" height=\"24px\"viewBox=\"0 0 24 24\"\n",
              "     width=\"24px\">\n",
              "    <g>\n",
              "        <path d=\"M19 3H5c-1.1 0-2 .9-2 2v14c0 1.1.9 2 2 2h14c1.1 0 2-.9 2-2V5c0-1.1-.9-2-2-2zM9 17H7v-7h2v7zm4 0h-2V7h2v10zm4 0h-2v-4h2v4z\"/>\n",
              "    </g>\n",
              "</svg>\n",
              "  </button>\n",
              "\n",
              "<style>\n",
              "  .colab-df-quickchart {\n",
              "      --bg-color: #E8F0FE;\n",
              "      --fill-color: #1967D2;\n",
              "      --hover-bg-color: #E2EBFA;\n",
              "      --hover-fill-color: #174EA6;\n",
              "      --disabled-fill-color: #AAA;\n",
              "      --disabled-bg-color: #DDD;\n",
              "  }\n",
              "\n",
              "  [theme=dark] .colab-df-quickchart {\n",
              "      --bg-color: #3B4455;\n",
              "      --fill-color: #D2E3FC;\n",
              "      --hover-bg-color: #434B5C;\n",
              "      --hover-fill-color: #FFFFFF;\n",
              "      --disabled-bg-color: #3B4455;\n",
              "      --disabled-fill-color: #666;\n",
              "  }\n",
              "\n",
              "  .colab-df-quickchart {\n",
              "    background-color: var(--bg-color);\n",
              "    border: none;\n",
              "    border-radius: 50%;\n",
              "    cursor: pointer;\n",
              "    display: none;\n",
              "    fill: var(--fill-color);\n",
              "    height: 32px;\n",
              "    padding: 0;\n",
              "    width: 32px;\n",
              "  }\n",
              "\n",
              "  .colab-df-quickchart:hover {\n",
              "    background-color: var(--hover-bg-color);\n",
              "    box-shadow: 0 1px 2px rgba(60, 64, 67, 0.3), 0 1px 3px 1px rgba(60, 64, 67, 0.15);\n",
              "    fill: var(--button-hover-fill-color);\n",
              "  }\n",
              "\n",
              "  .colab-df-quickchart-complete:disabled,\n",
              "  .colab-df-quickchart-complete:disabled:hover {\n",
              "    background-color: var(--disabled-bg-color);\n",
              "    fill: var(--disabled-fill-color);\n",
              "    box-shadow: none;\n",
              "  }\n",
              "\n",
              "  .colab-df-spinner {\n",
              "    border: 2px solid var(--fill-color);\n",
              "    border-color: transparent;\n",
              "    border-bottom-color: var(--fill-color);\n",
              "    animation:\n",
              "      spin 1s steps(1) infinite;\n",
              "  }\n",
              "\n",
              "  @keyframes spin {\n",
              "    0% {\n",
              "      border-color: transparent;\n",
              "      border-bottom-color: var(--fill-color);\n",
              "      border-left-color: var(--fill-color);\n",
              "    }\n",
              "    20% {\n",
              "      border-color: transparent;\n",
              "      border-left-color: var(--fill-color);\n",
              "      border-top-color: var(--fill-color);\n",
              "    }\n",
              "    30% {\n",
              "      border-color: transparent;\n",
              "      border-left-color: var(--fill-color);\n",
              "      border-top-color: var(--fill-color);\n",
              "      border-right-color: var(--fill-color);\n",
              "    }\n",
              "    40% {\n",
              "      border-color: transparent;\n",
              "      border-right-color: var(--fill-color);\n",
              "      border-top-color: var(--fill-color);\n",
              "    }\n",
              "    60% {\n",
              "      border-color: transparent;\n",
              "      border-right-color: var(--fill-color);\n",
              "    }\n",
              "    80% {\n",
              "      border-color: transparent;\n",
              "      border-right-color: var(--fill-color);\n",
              "      border-bottom-color: var(--fill-color);\n",
              "    }\n",
              "    90% {\n",
              "      border-color: transparent;\n",
              "      border-bottom-color: var(--fill-color);\n",
              "    }\n",
              "  }\n",
              "</style>\n",
              "\n",
              "  <script>\n",
              "    async function quickchart(key) {\n",
              "      const quickchartButtonEl =\n",
              "        document.querySelector('#' + key + ' button');\n",
              "      quickchartButtonEl.disabled = true;  // To prevent multiple clicks.\n",
              "      quickchartButtonEl.classList.add('colab-df-spinner');\n",
              "      try {\n",
              "        const charts = await google.colab.kernel.invokeFunction(\n",
              "            'suggestCharts', [key], {});\n",
              "      } catch (error) {\n",
              "        console.error('Error during call to suggestCharts:', error);\n",
              "      }\n",
              "      quickchartButtonEl.classList.remove('colab-df-spinner');\n",
              "      quickchartButtonEl.classList.add('colab-df-quickchart-complete');\n",
              "    }\n",
              "    (() => {\n",
              "      let quickchartButtonEl =\n",
              "        document.querySelector('#df-b4b6fa15-de2b-4656-bf94-2bb09f91a239 button');\n",
              "      quickchartButtonEl.style.display =\n",
              "        google.colab.kernel.accessAllowed ? 'block' : 'none';\n",
              "    })();\n",
              "  </script>\n",
              "</div>\n",
              "\n",
              "    </div>\n",
              "  </div>\n"
            ],
            "application/vnd.google.colaboratory.intrinsic+json": {
              "type": "dataframe",
              "variable_name": "nbaPStats"
            }
          },
          "metadata": {},
          "execution_count": 3
        }
      ],
      "source": [
        "nbaPStats.head()"
      ]
    },
    {
      "cell_type": "markdown",
      "metadata": {
        "id": "rjsRmvlmAmww"
      },
      "source": [
        "As you see here, I used this data set because I had already observed that the data was tidy and well orginized"
      ]
    },
    {
      "cell_type": "markdown",
      "metadata": {
        "id": "T50sg1HS1-nG"
      },
      "source": [
        "With this data we wondering what the biggest factors are when it comes to fantasy basketball. The question we are asking is what stats from the previous season will result in a undervalued fantasy basketball draft pick in the following season?"
      ]
    },
    {
      "cell_type": "markdown",
      "metadata": {
        "id": "Ywxm9cwEVTcp"
      },
      "source": [
        "###Requirment for milestone 1"
      ]
    },
    {
      "cell_type": "markdown",
      "metadata": {
        "id": "Dhnqt06W2spJ"
      },
      "source": [
        "Here's one Interesting Stat:"
      ]
    },
    {
      "cell_type": "code",
      "execution_count": null,
      "metadata": {
        "colab": {
          "base_uri": "https://localhost:8080/"
        },
        "id": "0HPRRUyI3vua",
        "outputId": "ba7facd3-08fb-4c84-9fb3-d7711d2f95e3"
      },
      "outputs": [
        {
          "output_type": "execute_result",
          "data": {
            "text/plain": [
              "Tm\n",
              "CLE    11\n",
              "MIA     4\n",
              "LAL     4\n",
              "Name: count, dtype: int64"
            ]
          },
          "metadata": {},
          "execution_count": 4
        }
      ],
      "source": [
        "Lebron_Teams = nbaPStats[nbaPStats['Player'] == 'LeBron James']['Tm'].value_counts()\n",
        "Lebron_Teams"
      ]
    },
    {
      "cell_type": "markdown",
      "metadata": {
        "id": "A1wiAJlC6ZtQ"
      },
      "source": [
        "LeBron James has played at least one games for the Cavs in 11 different seasons!!!"
      ]
    },
    {
      "cell_type": "markdown",
      "metadata": {
        "id": "0fDhbFnE6rpm"
      },
      "source": [
        "Here's a graph that represent how many seasons LeBron has played at least one game for a team, and how many times hes done it for that team:"
      ]
    },
    {
      "cell_type": "code",
      "execution_count": null,
      "metadata": {
        "colab": {
          "base_uri": "https://localhost:8080/",
          "height": 406
        },
        "id": "q4JORHNU-Zz-",
        "outputId": "c68d62f2-d5ad-4b81-9939-879ef96844eb"
      },
      "outputs": [
        {
          "output_type": "display_data",
          "data": {
            "text/plain": [
              "<Figure size 640x480 with 1 Axes>"
            ],
            "image/png": "[encoded data removed]"
          },
          "metadata": {}
        }
      ],
      "source": [
        "labels = Lebron_Teams.index.to_list()\n",
        "sizes = Lebron_Teams.to_list()\n",
        "fig1, ax1 = plt.subplots()\n",
        "ax1.pie(sizes, labels=['Cleavland','Miami','Los Angeles'], autopct='%1.1f%%', startangle=90)\n",
        "ax1.axis('equal')  # Equal aspect ratio ensures a circular pie chart\n",
        "plt.show()"
      ]
    },
    {
      "cell_type": "markdown",
      "metadata": {
        "id": "Eqm-51J9OCt3"
      },
      "source": [
        "## Tidying the data"
      ]
    },
    {
      "cell_type": "markdown",
      "metadata": {
        "id": "GqySicXDVxxP"
      },
      "source": [
        "###dtype check"
      ]
    },
    {
      "cell_type": "markdown",
      "metadata": {
        "id": "6UIVDV7VOVc4"
      },
      "source": [
        "Making sure the dtype of each column is what we want"
      ]
    },
    {
      "cell_type": "code",
      "execution_count": null,
      "metadata": {
        "colab": {
          "base_uri": "https://localhost:8080/"
        },
        "id": "8gTW5FzcOchs",
        "outputId": "49ce6930-3535-492f-9d48-b0ab775bdaea"
      },
      "outputs": [
        {
          "output_type": "execute_result",
          "data": {
            "text/plain": [
              "Rk          int64\n",
              "Player     object\n",
              "Pos        object\n",
              "Age         int64\n",
              "Tm         object\n",
              "G           int64\n",
              "GS          int64\n",
              "MP        float64\n",
              "FG        float64\n",
              "FGA       float64\n",
              "FG%       float64\n",
              "3P        float64\n",
              "3PA       float64\n",
              "3P%       float64\n",
              "2P        float64\n",
              "2PA       float64\n",
              "2P%       float64\n",
              "eFG%      float64\n",
              "FT        float64\n",
              "FTA       float64\n",
              "FT%       float64\n",
              "ORB       float64\n",
              "DRB       float64\n",
              "TRB       float64\n",
              "AST       float64\n",
              "STL       float64\n",
              "BLK       float64\n",
              "TOV       float64\n",
              "PF        float64\n",
              "PTS       float64\n",
              "Season     object\n",
              "MVP          bool\n",
              "dtype: object"
            ]
          },
          "metadata": {},
          "execution_count": 4
        }
      ],
      "source": [
        "nbaPStats.dtypes"
      ]
    },
    {
      "cell_type": "markdown",
      "metadata": {
        "id": "57Mld2RkQGXX"
      },
      "source": [
        "These are exactly what I want. In the future I might make what in the NBA is called advanced stats which use ratios of some of the float objects that may be more indicitive of player sucsess. An example of this would be true shooting precentage."
      ]
    },
    {
      "cell_type": "markdown",
      "metadata": {
        "id": "BsvBPwYpV6Pr"
      },
      "source": [
        "###Cleaning NaN values"
      ]
    },
    {
      "cell_type": "markdown",
      "metadata": {
        "id": "d_Uq2ldsTeKa"
      },
      "source": [
        "Now let's check if there are any NaN values\n"
      ]
    },
    {
      "cell_type": "code",
      "execution_count": null,
      "metadata": {
        "colab": {
          "base_uri": "https://localhost:8080/"
        },
        "id": "8zLpgPzHRgIn",
        "outputId": "aa71742a-e6f5-4c74-f8a3-f7bb8920d487"
      },
      "outputs": [
        {
          "output_type": "execute_result",
          "data": {
            "text/plain": [
              "False    11962\n",
              "True      2611\n",
              "Name: count, dtype: int64"
            ]
          },
          "metadata": {},
          "execution_count": 5
        }
      ],
      "source": [
        "nan_rows = nbaPStats.isna().any(axis=1)\n",
        "nan_rows.value_counts()"
      ]
    },
    {
      "cell_type": "markdown",
      "metadata": {
        "id": "3VCbmpbUTd1X"
      },
      "source": [
        "Uh oh. Let's see if I can do anything about that. After some analaysis I found out that all the NaN values exist in the precentage columns when there were no attempts from the player. Therefiore since they did not take any 3 point shots for example, we can say that their 3 point presentage is 0%. Therefore I am going to relace all NaN values with 0"
      ]
    },
    {
      "cell_type": "code",
      "execution_count": null,
      "metadata": {
        "id": "PGSSnOK7Tmtd"
      },
      "outputs": [],
      "source": [
        "nbaPStats = nbaPStats.fillna(0)"
      ]
    },
    {
      "cell_type": "markdown",
      "metadata": {
        "id": "Tzc6Z5JjZFV5"
      },
      "source": [
        "Now lets check to see if that worked"
      ]
    },
    {
      "cell_type": "code",
      "execution_count": null,
      "metadata": {
        "colab": {
          "base_uri": "https://localhost:8080/"
        },
        "id": "SPWndI2kZIDz",
        "outputId": "3a3ce8c6-7e64-4dbd-e328-091e4581baab"
      },
      "outputs": [
        {
          "output_type": "execute_result",
          "data": {
            "text/plain": [
              "False    14573\n",
              "Name: count, dtype: int64"
            ]
          },
          "metadata": {},
          "execution_count": 7
        }
      ],
      "source": [
        "nan_rows = nbaPStats.isna().any(axis=1)\n",
        "nan_rows.value_counts()"
      ]
    },
    {
      "cell_type": "markdown",
      "metadata": {
        "id": "wC3IBDYnZLyH"
      },
      "source": [
        "Now we have no NaN values!!!"
      ]
    },
    {
      "cell_type": "markdown",
      "metadata": {
        "id": "h7_QYie3WMH8"
      },
      "source": [
        "###Getting rid of unuseful data"
      ]
    },
    {
      "cell_type": "markdown",
      "metadata": {
        "id": "XKAiyi96aXCl"
      },
      "source": [
        "Now to remove the irrelevant 'Rk' column."
      ]
    },
    {
      "cell_type": "code",
      "execution_count": null,
      "metadata": {
        "colab": {
          "base_uri": "https://localhost:8080/",
          "height": 236
        },
        "id": "qsh4JzEYabv2",
        "outputId": "32cc742c-9ed3-4034-d7a4-453d4bb75307"
      },
      "outputs": [
        {
          "output_type": "execute_result",
          "data": {
            "text/plain": [
              "                Player Pos  Age   Tm   G  GS    MP   FG   FGA    FG%  ...  \\\n",
              "0   Mahmoud Abdul-Rauf  PG   28  SAC  31   0  17.1  3.3   8.8  0.377  ...   \n",
              "1    Tariq Abdul-Wahad  SG   23  SAC  59  16  16.3  2.4   6.1  0.403  ...   \n",
              "2  Shareef Abdur-Rahim  SF   21  VAN  82  82  36.0  8.0  16.4  0.485  ...   \n",
              "3       Cory Alexander  PG   24  TOT  60  22  21.6  2.9   6.7  0.428  ...   \n",
              "4       Cory Alexander  PG   24  SAS  37   3  13.5  1.6   3.9  0.414  ...   \n",
              "\n",
              "   DRB  TRB  AST  STL  BLK  TOV   PF   PTS   Season    MVP  \n",
              "0  1.0  1.2  1.9  0.5  0.0  0.6  1.0   7.3  1997-98  False  \n",
              "1  1.2  2.0  0.9  0.6  0.2  1.1  1.4   6.4  1997-98  False  \n",
              "2  4.3  7.1  2.6  1.1  0.9  3.1  2.5  22.3  1997-98  False  \n",
              "3  2.2  2.4  3.5  1.2  0.2  1.9  1.6   8.1  1997-98  False  \n",
              "4  1.1  1.3  1.9  0.7  0.1  1.3  1.4   4.5  1997-98  False  \n",
              "\n",
              "[5 rows x 31 columns]"
            ],
            "text/html": [
              "\n",
              "  <div id=\"df-a55fe3e9-21fb-4b21-a410-17549afddd4e\" class=\"colab-df-container\">\n",
              "    <div>\n",
              "<style scoped>\n",
              "    .dataframe tbody tr th:only-of-type {\n",
              "        vertical-align: middle;\n",
              "    }\n",
              "\n",
              "    .dataframe tbody tr th {\n",
              "        vertical-align: top;\n",
              "    }\n",
              "\n",
              "    .dataframe thead th {\n",
              "        text-align: right;\n",
              "    }\n",
              "</style>\n",
              "<table border=\"1\" class=\"dataframe\">\n",
              "  <thead>\n",
              "    <tr style=\"text-align: right;\">\n",
              "      <th></th>\n",
              "      <th>Player</th>\n",
              "      <th>Pos</th>\n",
              "      <th>Age</th>\n",
              "      <th>Tm</th>\n",
              "      <th>G</th>\n",
              "      <th>GS</th>\n",
              "      <th>MP</th>\n",
              "      <th>FG</th>\n",
              "      <th>FGA</th>\n",
              "      <th>FG%</th>\n",
              "      <th>...</th>\n",
              "      <th>DRB</th>\n",
              "      <th>TRB</th>\n",
              "      <th>AST</th>\n",
              "      <th>STL</th>\n",
              "      <th>BLK</th>\n",
              "      <th>TOV</th>\n",
              "      <th>PF</th>\n",
              "      <th>PTS</th>\n",
              "      <th>Season</th>\n",
              "      <th>MVP</th>\n",
              "    </tr>\n",
              "  </thead>\n",
              "  <tbody>\n",
              "    <tr>\n",
              "      <th>0</th>\n",
              "      <td>Mahmoud Abdul-Rauf</td>\n",
              "      <td>PG</td>\n",
              "      <td>28</td>\n",
              "      <td>SAC</td>\n",
              "      <td>31</td>\n",
              "      <td>0</td>\n",
              "      <td>17.1</td>\n",
              "      <td>3.3</td>\n",
              "      <td>8.8</td>\n",
              "      <td>0.377</td>\n",
              "      <td>...</td>\n",
              "      <td>1.0</td>\n",
              "      <td>1.2</td>\n",
              "      <td>1.9</td>\n",
              "      <td>0.5</td>\n",
              "      <td>0.0</td>\n",
              "      <td>0.6</td>\n",
              "      <td>1.0</td>\n",
              "      <td>7.3</td>\n",
              "      <td>1997-98</td>\n",
              "      <td>False</td>\n",
              "    </tr>\n",
              "    <tr>\n",
              "      <th>1</th>\n",
              "      <td>Tariq Abdul-Wahad</td>\n",
              "      <td>SG</td>\n",
              "      <td>23</td>\n",
              "      <td>SAC</td>\n",
              "      <td>59</td>\n",
              "      <td>16</td>\n",
              "      <td>16.3</td>\n",
              "      <td>2.4</td>\n",
              "      <td>6.1</td>\n",
              "      <td>0.403</td>\n",
              "      <td>...</td>\n",
              "      <td>1.2</td>\n",
              "      <td>2.0</td>\n",
              "      <td>0.9</td>\n",
              "      <td>0.6</td>\n",
              "      <td>0.2</td>\n",
              "      <td>1.1</td>\n",
              "      <td>1.4</td>\n",
              "      <td>6.4</td>\n",
              "      <td>1997-98</td>\n",
              "      <td>False</td>\n",
              "    </tr>\n",
              "    <tr>\n",
              "      <th>2</th>\n",
              "      <td>Shareef Abdur-Rahim</td>\n",
              "      <td>SF</td>\n",
              "      <td>21</td>\n",
              "      <td>VAN</td>\n",
              "      <td>82</td>\n",
              "      <td>82</td>\n",
              "      <td>36.0</td>\n",
              "      <td>8.0</td>\n",
              "      <td>16.4</td>\n",
              "      <td>0.485</td>\n",
              "      <td>...</td>\n",
              "      <td>4.3</td>\n",
              "      <td>7.1</td>\n",
              "      <td>2.6</td>\n",
              "      <td>1.1</td>\n",
              "      <td>0.9</td>\n",
              "      <td>3.1</td>\n",
              "      <td>2.5</td>\n",
              "      <td>22.3</td>\n",
              "      <td>1997-98</td>\n",
              "      <td>False</td>\n",
              "    </tr>\n",
              "    <tr>\n",
              "      <th>3</th>\n",
              "      <td>Cory Alexander</td>\n",
              "      <td>PG</td>\n",
              "      <td>24</td>\n",
              "      <td>TOT</td>\n",
              "      <td>60</td>\n",
              "      <td>22</td>\n",
              "      <td>21.6</td>\n",
              "      <td>2.9</td>\n",
              "      <td>6.7</td>\n",
              "      <td>0.428</td>\n",
              "      <td>...</td>\n",
              "      <td>2.2</td>\n",
              "      <td>2.4</td>\n",
              "      <td>3.5</td>\n",
              "      <td>1.2</td>\n",
              "      <td>0.2</td>\n",
              "      <td>1.9</td>\n",
              "      <td>1.6</td>\n",
              "      <td>8.1</td>\n",
              "      <td>1997-98</td>\n",
              "      <td>False</td>\n",
              "    </tr>\n",
              "    <tr>\n",
              "      <th>4</th>\n",
              "      <td>Cory Alexander</td>\n",
              "      <td>PG</td>\n",
              "      <td>24</td>\n",
              "      <td>SAS</td>\n",
              "      <td>37</td>\n",
              "      <td>3</td>\n",
              "      <td>13.5</td>\n",
              "      <td>1.6</td>\n",
              "      <td>3.9</td>\n",
              "      <td>0.414</td>\n",
              "      <td>...</td>\n",
              "      <td>1.1</td>\n",
              "      <td>1.3</td>\n",
              "      <td>1.9</td>\n",
              "      <td>0.7</td>\n",
              "      <td>0.1</td>\n",
              "      <td>1.3</td>\n",
              "      <td>1.4</td>\n",
              "      <td>4.5</td>\n",
              "      <td>1997-98</td>\n",
              "      <td>False</td>\n",
              "    </tr>\n",
              "  </tbody>\n",
              "</table>\n",
              "<p>5 rows × 31 columns</p>\n",
              "</div>\n",
              "    <div class=\"colab-df-buttons\">\n",
              "\n",
              "  <div class=\"colab-df-container\">\n",
              "    <button class=\"colab-df-convert\" onclick=\"convertToInteractive('df-a55fe3e9-21fb-4b21-a410-17549afddd4e')\"\n",
              "            title=\"Convert this dataframe to an interactive table.\"\n",
              "            style=\"display:none;\">\n",
              "\n",
              "  <svg xmlns=\"http://www.w3.org/2000/svg\" height=\"24px\" viewBox=\"0 -960 960 960\">\n",
              "    <path d=\"M120-120v-720h720v720H120Zm60-500h600v-160H180v160Zm220 220h160v-160H400v160Zm0 220h160v-160H400v160ZM180-400h160v-160H180v160Zm440 0h160v-160H620v160ZM180-180h160v-160H180v160Zm440 0h160v-160H620v160Z\"/>\n",
              "  </svg>\n",
              "    </button>\n",
              "\n",
              "  <style>\n",
              "    .colab-df-container {\n",
              "      display:flex;\n",
              "      gap: 12px;\n",
              "    }\n",
              "\n",
              "    .colab-df-convert {\n",
              "      background-color: #E8F0FE;\n",
              "      border: none;\n",
              "      border-radius: 50%;\n",
              "      cursor: pointer;\n",
              "      display: none;\n",
              "      fill: #1967D2;\n",
              "      height: 32px;\n",
              "      padding: 0 0 0 0;\n",
              "      width: 32px;\n",
              "    }\n",
              "\n",
              "    .colab-df-convert:hover {\n",
              "      background-color: #E2EBFA;\n",
              "      box-shadow: 0px 1px 2px rgba(60, 64, 67, 0.3), 0px 1px 3px 1px rgba(60, 64, 67, 0.15);\n",
              "      fill: #174EA6;\n",
              "    }\n",
              "\n",
              "    .colab-df-buttons div {\n",
              "      margin-bottom: 4px;\n",
              "    }\n",
              "\n",
              "    [theme=dark] .colab-df-convert {\n",
              "      background-color: #3B4455;\n",
              "      fill: #D2E3FC;\n",
              "    }\n",
              "\n",
              "    [theme=dark] .colab-df-convert:hover {\n",
              "      background-color: #434B5C;\n",
              "      box-shadow: 0px 1px 3px 1px rgba(0, 0, 0, 0.15);\n",
              "      filter: drop-shadow(0px 1px 2px rgba(0, 0, 0, 0.3));\n",
              "      fill: #FFFFFF;\n",
              "    }\n",
              "  </style>\n",
              "\n",
              "    <script>\n",
              "      const buttonEl =\n",
              "        document.querySelector('#df-a55fe3e9-21fb-4b21-a410-17549afddd4e button.colab-df-convert');\n",
              "      buttonEl.style.display =\n",
              "        google.colab.kernel.accessAllowed ? 'block' : 'none';\n",
              "\n",
              "      async function convertToInteractive(key) {\n",
              "        const element = document.querySelector('#df-a55fe3e9-21fb-4b21-a410-17549afddd4e');\n",
              "        const dataTable =\n",
              "          await google.colab.kernel.invokeFunction('convertToInteractive',\n",
              "                                                    [key], {});\n",
              "        if (!dataTable) return;\n",
              "\n",
              "        const docLinkHtml = 'Like what you see? Visit the ' +\n",
              "          '<a target=\"_blank\" href=https://colab.research.google.com/notebooks/data_table.ipynb>data table notebook</a>'\n",
              "          + ' to learn more about interactive tables.';\n",
              "        element.innerHTML = '';\n",
              "        dataTable['output_type'] = 'display_data';\n",
              "        await google.colab.output.renderOutput(dataTable, element);\n",
              "        const docLink = document.createElement('div');\n",
              "        docLink.innerHTML = docLinkHtml;\n",
              "        element.appendChild(docLink);\n",
              "      }\n",
              "    </script>\n",
              "  </div>\n",
              "\n",
              "\n",
              "<div id=\"df-8aa3f542-c1d8-49b7-b2ee-ea80f157d744\">\n",
              "  <button class=\"colab-df-quickchart\" onclick=\"quickchart('df-8aa3f542-c1d8-49b7-b2ee-ea80f157d744')\"\n",
              "            title=\"Suggest charts\"\n",
              "            style=\"display:none;\">\n",
              "\n",
              "<svg xmlns=\"http://www.w3.org/2000/svg\" height=\"24px\"viewBox=\"0 0 24 24\"\n",
              "     width=\"24px\">\n",
              "    <g>\n",
              "        <path d=\"M19 3H5c-1.1 0-2 .9-2 2v14c0 1.1.9 2 2 2h14c1.1 0 2-.9 2-2V5c0-1.1-.9-2-2-2zM9 17H7v-7h2v7zm4 0h-2V7h2v10zm4 0h-2v-4h2v4z\"/>\n",
              "    </g>\n",
              "</svg>\n",
              "  </button>\n",
              "\n",
              "<style>\n",
              "  .colab-df-quickchart {\n",
              "      --bg-color: #E8F0FE;\n",
              "      --fill-color: #1967D2;\n",
              "      --hover-bg-color: #E2EBFA;\n",
              "      --hover-fill-color: #174EA6;\n",
              "      --disabled-fill-color: #AAA;\n",
              "      --disabled-bg-color: #DDD;\n",
              "  }\n",
              "\n",
              "  [theme=dark] .colab-df-quickchart {\n",
              "      --bg-color: #3B4455;\n",
              "      --fill-color: #D2E3FC;\n",
              "      --hover-bg-color: #434B5C;\n",
              "      --hover-fill-color: #FFFFFF;\n",
              "      --disabled-bg-color: #3B4455;\n",
              "      --disabled-fill-color: #666;\n",
              "  }\n",
              "\n",
              "  .colab-df-quickchart {\n",
              "    background-color: var(--bg-color);\n",
              "    border: none;\n",
              "    border-radius: 50%;\n",
              "    cursor: pointer;\n",
              "    display: none;\n",
              "    fill: var(--fill-color);\n",
              "    height: 32px;\n",
              "    padding: 0;\n",
              "    width: 32px;\n",
              "  }\n",
              "\n",
              "  .colab-df-quickchart:hover {\n",
              "    background-color: var(--hover-bg-color);\n",
              "    box-shadow: 0 1px 2px rgba(60, 64, 67, 0.3), 0 1px 3px 1px rgba(60, 64, 67, 0.15);\n",
              "    fill: var(--button-hover-fill-color);\n",
              "  }\n",
              "\n",
              "  .colab-df-quickchart-complete:disabled,\n",
              "  .colab-df-quickchart-complete:disabled:hover {\n",
              "    background-color: var(--disabled-bg-color);\n",
              "    fill: var(--disabled-fill-color);\n",
              "    box-shadow: none;\n",
              "  }\n",
              "\n",
              "  .colab-df-spinner {\n",
              "    border: 2px solid var(--fill-color);\n",
              "    border-color: transparent;\n",
              "    border-bottom-color: var(--fill-color);\n",
              "    animation:\n",
              "      spin 1s steps(1) infinite;\n",
              "  }\n",
              "\n",
              "  @keyframes spin {\n",
              "    0% {\n",
              "      border-color: transparent;\n",
              "      border-bottom-color: var(--fill-color);\n",
              "      border-left-color: var(--fill-color);\n",
              "    }\n",
              "    20% {\n",
              "      border-color: transparent;\n",
              "      border-left-color: var(--fill-color);\n",
              "      border-top-color: var(--fill-color);\n",
              "    }\n",
              "    30% {\n",
              "      border-color: transparent;\n",
              "      border-left-color: var(--fill-color);\n",
              "      border-top-color: var(--fill-color);\n",
              "      border-right-color: var(--fill-color);\n",
              "    }\n",
              "    40% {\n",
              "      border-color: transparent;\n",
              "      border-right-color: var(--fill-color);\n",
              "      border-top-color: var(--fill-color);\n",
              "    }\n",
              "    60% {\n",
              "      border-color: transparent;\n",
              "      border-right-color: var(--fill-color);\n",
              "    }\n",
              "    80% {\n",
              "      border-color: transparent;\n",
              "      border-right-color: var(--fill-color);\n",
              "      border-bottom-color: var(--fill-color);\n",
              "    }\n",
              "    90% {\n",
              "      border-color: transparent;\n",
              "      border-bottom-color: var(--fill-color);\n",
              "    }\n",
              "  }\n",
              "</style>\n",
              "\n",
              "  <script>\n",
              "    async function quickchart(key) {\n",
              "      const quickchartButtonEl =\n",
              "        document.querySelector('#' + key + ' button');\n",
              "      quickchartButtonEl.disabled = true;  // To prevent multiple clicks.\n",
              "      quickchartButtonEl.classList.add('colab-df-spinner');\n",
              "      try {\n",
              "        const charts = await google.colab.kernel.invokeFunction(\n",
              "            'suggestCharts', [key], {});\n",
              "      } catch (error) {\n",
              "        console.error('Error during call to suggestCharts:', error);\n",
              "      }\n",
              "      quickchartButtonEl.classList.remove('colab-df-spinner');\n",
              "      quickchartButtonEl.classList.add('colab-df-quickchart-complete');\n",
              "    }\n",
              "    (() => {\n",
              "      let quickchartButtonEl =\n",
              "        document.querySelector('#df-8aa3f542-c1d8-49b7-b2ee-ea80f157d744 button');\n",
              "      quickchartButtonEl.style.display =\n",
              "        google.colab.kernel.accessAllowed ? 'block' : 'none';\n",
              "    })();\n",
              "  </script>\n",
              "</div>\n",
              "\n",
              "    </div>\n",
              "  </div>\n"
            ],
            "application/vnd.google.colaboratory.intrinsic+json": {
              "type": "dataframe",
              "variable_name": "nbaPStats"
            }
          },
          "metadata": {},
          "execution_count": 8
        }
      ],
      "source": [
        "nbaPStats.pop('Rk')\n",
        "nbaPStats.head()"
      ]
    },
    {
      "cell_type": "markdown",
      "metadata": {
        "id": "vdVVo2opasOg"
      },
      "source": [
        "No more 'Rk' values, so this was successful!"
      ]
    },
    {
      "cell_type": "markdown",
      "metadata": {
        "id": "ExWO7GqRWaHh"
      },
      "source": [
        "###Adding useful data columns"
      ]
    },
    {
      "cell_type": "markdown",
      "metadata": {
        "id": "rMUF_-TJaHoy"
      },
      "source": [
        "I talked about this ealier but I am now going to add a column for true shooting percentage, which combines all types of scoring to aproximate how effecient of a shooter a certain player is. This is a standardized calculation. Throughout this project we hope top come up with some of out own advanced nba stats that would be useful."
      ]
    },
    {
      "cell_type": "code",
      "execution_count": null,
      "metadata": {
        "colab": {
          "base_uri": "https://localhost:8080/"
        },
        "id": "vF647yRbaDAu",
        "outputId": "fe8430fe-afe0-4e05-a2ca-807296183c07"
      },
      "outputs": [
        {
          "output_type": "execute_result",
          "data": {
            "text/plain": [
              "0        0.403873\n",
              "1        0.450863\n",
              "2        0.554588\n",
              "3        0.539461\n",
              "4        0.514286\n",
              "           ...   \n",
              "14568    0.527197\n",
              "14569    0.597455\n",
              "14570    0.538344\n",
              "14571    0.625752\n",
              "14572    0.649842\n",
              "Name: TS%, Length: 14573, dtype: float64"
            ]
          },
          "metadata": {},
          "execution_count": 9
        }
      ],
      "source": [
        "nbaPStats['TS%'] = (nbaPStats['PTS']/2) / (nbaPStats['FGA'] + (nbaPStats['FTA'] * 0.475))\n",
        "nbaPStats['TS%']"
      ]
    },
    {
      "cell_type": "markdown",
      "metadata": {
        "id": "RC7ap4PfbuOJ"
      },
      "source": [
        "Now we have true shooting precentage in our dataframe!!!"
      ]
    },
    {
      "cell_type": "markdown",
      "metadata": {
        "id": "_Nm5rQv6MIZ0"
      },
      "source": [
        "Because our project is based on fantasy basketball, the goal of our project is to maximize fantasy points. To do that we need to make a new column that stores how many fantasy points each player gets on a normal season for them. We will also calculate how many fantasy points each player on average per game. The distinction betweenthe two are important. The star players in the nba tend to do something called \"load management\" which is another word for rest to prevent injuries. Therefore star players occasonally will score more points on average for the games they play but will have less total fantasy points in a season compared to non-star players.\n",
        "\n",
        "For our project we will be using the [ESPN default fantasy points](https://www.espn.com/fantasy/basketball/story/_/id/30296896/espn-fantasy-default-points-league-scoring-explained) which is as follows;\n",
        "\n",
        "Point = 1\n",
        "\n",
        "3PM = 1\n",
        "\n",
        "FGA = -1\n",
        "\n",
        "FG = 2\n",
        "\n",
        "FTA = -1\n",
        "\n",
        "FT = 1\n",
        "\n",
        "TRB = 1\n",
        "\n",
        "AST = 2\n",
        "\n",
        "STL = 4\n",
        "\n",
        "BLK = 4\n",
        "\n",
        "(Reference the introduction to see what the abbriviations mean)"
      ]
    },
    {
      "cell_type": "markdown",
      "metadata": {
        "id": "HpXCWNrXO3a8"
      },
      "source": [
        "Now adding the fantasy points columns to our dataset:\n",
        "\n",
        "(FP = fantasy points and FPA = fantasy points average)"
      ]
    },
    {
      "cell_type": "code",
      "execution_count": null,
      "metadata": {
        "colab": {
          "base_uri": "https://localhost:8080/",
          "height": 236
        },
        "id": "5cS3xbDiPE45",
        "outputId": "6025c573-d983-4152-8fbe-8a92440aa707"
      },
      "outputs": [
        {
          "output_type": "execute_result",
          "data": {
            "text/plain": [
              "                Player Pos  Age   Tm   G  GS    MP   FG   FGA    FG%  ...  \\\n",
              "0   Mahmoud Abdul-Rauf  PG   28  SAC  31   0  17.1  3.3   8.8  0.377  ...   \n",
              "1    Tariq Abdul-Wahad  SG   23  SAC  59  16  16.3  2.4   6.1  0.403  ...   \n",
              "2  Shareef Abdur-Rahim  SF   21  VAN  82  82  36.0  8.0  16.4  0.485  ...   \n",
              "3       Cory Alexander  PG   24  TOT  60  22  21.6  2.9   6.7  0.428  ...   \n",
              "4       Cory Alexander  PG   24  SAS  37   3  13.5  1.6   3.9  0.414  ...   \n",
              "\n",
              "   STL  BLK  TOV   PF   PTS   Season    MVP       TS%      FP   FPA  \n",
              "0  0.5  0.0  0.6  1.0   7.3  1997-98  False  0.403873   381.3  12.3  \n",
              "1  0.6  0.2  1.1  1.4   6.4  1997-98  False  0.450863   678.5  11.5  \n",
              "2  1.1  0.9  3.1  2.5  22.3  1997-98  False  0.554588  3345.6  40.8  \n",
              "3  1.2  0.2  1.9  1.6   8.1  1997-98  False  0.539461  1374.0  22.9  \n",
              "4  0.7  0.1  1.3  1.4   4.5  1997-98  False  0.514286   455.1  12.3  \n",
              "\n",
              "[5 rows x 34 columns]"
            ],
            "text/html": [
              "\n",
              "  <div id=\"df-c52f30c7-80cf-4aaf-a3f3-fabfc673fb1f\" class=\"colab-df-container\">\n",
              "    <div>\n",
              "<style scoped>\n",
              "    .dataframe tbody tr th:only-of-type {\n",
              "        vertical-align: middle;\n",
              "    }\n",
              "\n",
              "    .dataframe tbody tr th {\n",
              "        vertical-align: top;\n",
              "    }\n",
              "\n",
              "    .dataframe thead th {\n",
              "        text-align: right;\n",
              "    }\n",
              "</style>\n",
              "<table border=\"1\" class=\"dataframe\">\n",
              "  <thead>\n",
              "    <tr style=\"text-align: right;\">\n",
              "      <th></th>\n",
              "      <th>Player</th>\n",
              "      <th>Pos</th>\n",
              "      <th>Age</th>\n",
              "      <th>Tm</th>\n",
              "      <th>G</th>\n",
              "      <th>GS</th>\n",
              "      <th>MP</th>\n",
              "      <th>FG</th>\n",
              "      <th>FGA</th>\n",
              "      <th>FG%</th>\n",
              "      <th>...</th>\n",
              "      <th>STL</th>\n",
              "      <th>BLK</th>\n",
              "      <th>TOV</th>\n",
              "      <th>PF</th>\n",
              "      <th>PTS</th>\n",
              "      <th>Season</th>\n",
              "      <th>MVP</th>\n",
              "      <th>TS%</th>\n",
              "      <th>FP</th>\n",
              "      <th>FPA</th>\n",
              "    </tr>\n",
              "  </thead>\n",
              "  <tbody>\n",
              "    <tr>\n",
              "      <th>0</th>\n",
              "      <td>Mahmoud Abdul-Rauf</td>\n",
              "      <td>PG</td>\n",
              "      <td>28</td>\n",
              "      <td>SAC</td>\n",
              "      <td>31</td>\n",
              "      <td>0</td>\n",
              "      <td>17.1</td>\n",
              "      <td>3.3</td>\n",
              "      <td>8.8</td>\n",
              "      <td>0.377</td>\n",
              "      <td>...</td>\n",
              "      <td>0.5</td>\n",
              "      <td>0.0</td>\n",
              "      <td>0.6</td>\n",
              "      <td>1.0</td>\n",
              "      <td>7.3</td>\n",
              "      <td>1997-98</td>\n",
              "      <td>False</td>\n",
              "      <td>0.403873</td>\n",
              "      <td>381.3</td>\n",
              "      <td>12.3</td>\n",
              "    </tr>\n",
              "    <tr>\n",
              "      <th>1</th>\n",
              "      <td>Tariq Abdul-Wahad</td>\n",
              "      <td>SG</td>\n",
              "      <td>23</td>\n",
              "      <td>SAC</td>\n",
              "      <td>59</td>\n",
              "      <td>16</td>\n",
              "      <td>16.3</td>\n",
              "      <td>2.4</td>\n",
              "      <td>6.1</td>\n",
              "      <td>0.403</td>\n",
              "      <td>...</td>\n",
              "      <td>0.6</td>\n",
              "      <td>0.2</td>\n",
              "      <td>1.1</td>\n",
              "      <td>1.4</td>\n",
              "      <td>6.4</td>\n",
              "      <td>1997-98</td>\n",
              "      <td>False</td>\n",
              "      <td>0.450863</td>\n",
              "      <td>678.5</td>\n",
              "      <td>11.5</td>\n",
              "    </tr>\n",
              "    <tr>\n",
              "      <th>2</th>\n",
              "      <td>Shareef Abdur-Rahim</td>\n",
              "      <td>SF</td>\n",
              "      <td>21</td>\n",
              "      <td>VAN</td>\n",
              "      <td>82</td>\n",
              "      <td>82</td>\n",
              "      <td>36.0</td>\n",
              "      <td>8.0</td>\n",
              "      <td>16.4</td>\n",
              "      <td>0.485</td>\n",
              "      <td>...</td>\n",
              "      <td>1.1</td>\n",
              "      <td>0.9</td>\n",
              "      <td>3.1</td>\n",
              "      <td>2.5</td>\n",
              "      <td>22.3</td>\n",
              "      <td>1997-98</td>\n",
              "      <td>False</td>\n",
              "      <td>0.554588</td>\n",
              "      <td>3345.6</td>\n",
              "      <td>40.8</td>\n",
              "    </tr>\n",
              "    <tr>\n",
              "      <th>3</th>\n",
              "      <td>Cory Alexander</td>\n",
              "      <td>PG</td>\n",
              "      <td>24</td>\n",
              "      <td>TOT</td>\n",
              "      <td>60</td>\n",
              "      <td>22</td>\n",
              "      <td>21.6</td>\n",
              "      <td>2.9</td>\n",
              "      <td>6.7</td>\n",
              "      <td>0.428</td>\n",
              "      <td>...</td>\n",
              "      <td>1.2</td>\n",
              "      <td>0.2</td>\n",
              "      <td>1.9</td>\n",
              "      <td>1.6</td>\n",
              "      <td>8.1</td>\n",
              "      <td>1997-98</td>\n",
              "      <td>False</td>\n",
              "      <td>0.539461</td>\n",
              "      <td>1374.0</td>\n",
              "      <td>22.9</td>\n",
              "    </tr>\n",
              "    <tr>\n",
              "      <th>4</th>\n",
              "      <td>Cory Alexander</td>\n",
              "      <td>PG</td>\n",
              "      <td>24</td>\n",
              "      <td>SAS</td>\n",
              "      <td>37</td>\n",
              "      <td>3</td>\n",
              "      <td>13.5</td>\n",
              "      <td>1.6</td>\n",
              "      <td>3.9</td>\n",
              "      <td>0.414</td>\n",
              "      <td>...</td>\n",
              "      <td>0.7</td>\n",
              "      <td>0.1</td>\n",
              "      <td>1.3</td>\n",
              "      <td>1.4</td>\n",
              "      <td>4.5</td>\n",
              "      <td>1997-98</td>\n",
              "      <td>False</td>\n",
              "      <td>0.514286</td>\n",
              "      <td>455.1</td>\n",
              "      <td>12.3</td>\n",
              "    </tr>\n",
              "  </tbody>\n",
              "</table>\n",
              "<p>5 rows × 34 columns</p>\n",
              "</div>\n",
              "    <div class=\"colab-df-buttons\">\n",
              "\n",
              "  <div class=\"colab-df-container\">\n",
              "    <button class=\"colab-df-convert\" onclick=\"convertToInteractive('df-c52f30c7-80cf-4aaf-a3f3-fabfc673fb1f')\"\n",
              "            title=\"Convert this dataframe to an interactive table.\"\n",
              "            style=\"display:none;\">\n",
              "\n",
              "  <svg xmlns=\"http://www.w3.org/2000/svg\" height=\"24px\" viewBox=\"0 -960 960 960\">\n",
              "    <path d=\"M120-120v-720h720v720H120Zm60-500h600v-160H180v160Zm220 220h160v-160H400v160Zm0 220h160v-160H400v160ZM180-400h160v-160H180v160Zm440 0h160v-160H620v160ZM180-180h160v-160H180v160Zm440 0h160v-160H620v160Z\"/>\n",
              "  </svg>\n",
              "    </button>\n",
              "\n",
              "  <style>\n",
              "    .colab-df-container {\n",
              "      display:flex;\n",
              "      gap: 12px;\n",
              "    }\n",
              "\n",
              "    .colab-df-convert {\n",
              "      background-color: #E8F0FE;\n",
              "      border: none;\n",
              "      border-radius: 50%;\n",
              "      cursor: pointer;\n",
              "      display: none;\n",
              "      fill: #1967D2;\n",
              "      height: 32px;\n",
              "      padding: 0 0 0 0;\n",
              "      width: 32px;\n",
              "    }\n",
              "\n",
              "    .colab-df-convert:hover {\n",
              "      background-color: #E2EBFA;\n",
              "      box-shadow: 0px 1px 2px rgba(60, 64, 67, 0.3), 0px 1px 3px 1px rgba(60, 64, 67, 0.15);\n",
              "      fill: #174EA6;\n",
              "    }\n",
              "\n",
              "    .colab-df-buttons div {\n",
              "      margin-bottom: 4px;\n",
              "    }\n",
              "\n",
              "    [theme=dark] .colab-df-convert {\n",
              "      background-color: #3B4455;\n",
              "      fill: #D2E3FC;\n",
              "    }\n",
              "\n",
              "    [theme=dark] .colab-df-convert:hover {\n",
              "      background-color: #434B5C;\n",
              "      box-shadow: 0px 1px 3px 1px rgba(0, 0, 0, 0.15);\n",
              "      filter: drop-shadow(0px 1px 2px rgba(0, 0, 0, 0.3));\n",
              "      fill: #FFFFFF;\n",
              "    }\n",
              "  </style>\n",
              "\n",
              "    <script>\n",
              "      const buttonEl =\n",
              "        document.querySelector('#df-c52f30c7-80cf-4aaf-a3f3-fabfc673fb1f button.colab-df-convert');\n",
              "      buttonEl.style.display =\n",
              "        google.colab.kernel.accessAllowed ? 'block' : 'none';\n",
              "\n",
              "      async function convertToInteractive(key) {\n",
              "        const element = document.querySelector('#df-c52f30c7-80cf-4aaf-a3f3-fabfc673fb1f');\n",
              "        const dataTable =\n",
              "          await google.colab.kernel.invokeFunction('convertToInteractive',\n",
              "                                                    [key], {});\n",
              "        if (!dataTable) return;\n",
              "\n",
              "        const docLinkHtml = 'Like what you see? Visit the ' +\n",
              "          '<a target=\"_blank\" href=https://colab.research.google.com/notebooks/data_table.ipynb>data table notebook</a>'\n",
              "          + ' to learn more about interactive tables.';\n",
              "        element.innerHTML = '';\n",
              "        dataTable['output_type'] = 'display_data';\n",
              "        await google.colab.output.renderOutput(dataTable, element);\n",
              "        const docLink = document.createElement('div');\n",
              "        docLink.innerHTML = docLinkHtml;\n",
              "        element.appendChild(docLink);\n",
              "      }\n",
              "    </script>\n",
              "  </div>\n",
              "\n",
              "\n",
              "<div id=\"df-96f1e589-e329-4b48-935a-d26005e0778c\">\n",
              "  <button class=\"colab-df-quickchart\" onclick=\"quickchart('df-96f1e589-e329-4b48-935a-d26005e0778c')\"\n",
              "            title=\"Suggest charts\"\n",
              "            style=\"display:none;\">\n",
              "\n",
              "<svg xmlns=\"http://www.w3.org/2000/svg\" height=\"24px\"viewBox=\"0 0 24 24\"\n",
              "     width=\"24px\">\n",
              "    <g>\n",
              "        <path d=\"M19 3H5c-1.1 0-2 .9-2 2v14c0 1.1.9 2 2 2h14c1.1 0 2-.9 2-2V5c0-1.1-.9-2-2-2zM9 17H7v-7h2v7zm4 0h-2V7h2v10zm4 0h-2v-4h2v4z\"/>\n",
              "    </g>\n",
              "</svg>\n",
              "  </button>\n",
              "\n",
              "<style>\n",
              "  .colab-df-quickchart {\n",
              "      --bg-color: #E8F0FE;\n",
              "      --fill-color: #1967D2;\n",
              "      --hover-bg-color: #E2EBFA;\n",
              "      --hover-fill-color: #174EA6;\n",
              "      --disabled-fill-color: #AAA;\n",
              "      --disabled-bg-color: #DDD;\n",
              "  }\n",
              "\n",
              "  [theme=dark] .colab-df-quickchart {\n",
              "      --bg-color: #3B4455;\n",
              "      --fill-color: #D2E3FC;\n",
              "      --hover-bg-color: #434B5C;\n",
              "      --hover-fill-color: #FFFFFF;\n",
              "      --disabled-bg-color: #3B4455;\n",
              "      --disabled-fill-color: #666;\n",
              "  }\n",
              "\n",
              "  .colab-df-quickchart {\n",
              "    background-color: var(--bg-color);\n",
              "    border: none;\n",
              "    border-radius: 50%;\n",
              "    cursor: pointer;\n",
              "    display: none;\n",
              "    fill: var(--fill-color);\n",
              "    height: 32px;\n",
              "    padding: 0;\n",
              "    width: 32px;\n",
              "  }\n",
              "\n",
              "  .colab-df-quickchart:hover {\n",
              "    background-color: var(--hover-bg-color);\n",
              "    box-shadow: 0 1px 2px rgba(60, 64, 67, 0.3), 0 1px 3px 1px rgba(60, 64, 67, 0.15);\n",
              "    fill: var(--button-hover-fill-color);\n",
              "  }\n",
              "\n",
              "  .colab-df-quickchart-complete:disabled,\n",
              "  .colab-df-quickchart-complete:disabled:hover {\n",
              "    background-color: var(--disabled-bg-color);\n",
              "    fill: var(--disabled-fill-color);\n",
              "    box-shadow: none;\n",
              "  }\n",
              "\n",
              "  .colab-df-spinner {\n",
              "    border: 2px solid var(--fill-color);\n",
              "    border-color: transparent;\n",
              "    border-bottom-color: var(--fill-color);\n",
              "    animation:\n",
              "      spin 1s steps(1) infinite;\n",
              "  }\n",
              "\n",
              "  @keyframes spin {\n",
              "    0% {\n",
              "      border-color: transparent;\n",
              "      border-bottom-color: var(--fill-color);\n",
              "      border-left-color: var(--fill-color);\n",
              "    }\n",
              "    20% {\n",
              "      border-color: transparent;\n",
              "      border-left-color: var(--fill-color);\n",
              "      border-top-color: var(--fill-color);\n",
              "    }\n",
              "    30% {\n",
              "      border-color: transparent;\n",
              "      border-left-color: var(--fill-color);\n",
              "      border-top-color: var(--fill-color);\n",
              "      border-right-color: var(--fill-color);\n",
              "    }\n",
              "    40% {\n",
              "      border-color: transparent;\n",
              "      border-right-color: var(--fill-color);\n",
              "      border-top-color: var(--fill-color);\n",
              "    }\n",
              "    60% {\n",
              "      border-color: transparent;\n",
              "      border-right-color: var(--fill-color);\n",
              "    }\n",
              "    80% {\n",
              "      border-color: transparent;\n",
              "      border-right-color: var(--fill-color);\n",
              "      border-bottom-color: var(--fill-color);\n",
              "    }\n",
              "    90% {\n",
              "      border-color: transparent;\n",
              "      border-bottom-color: var(--fill-color);\n",
              "    }\n",
              "  }\n",
              "</style>\n",
              "\n",
              "  <script>\n",
              "    async function quickchart(key) {\n",
              "      const quickchartButtonEl =\n",
              "        document.querySelector('#' + key + ' button');\n",
              "      quickchartButtonEl.disabled = true;  // To prevent multiple clicks.\n",
              "      quickchartButtonEl.classList.add('colab-df-spinner');\n",
              "      try {\n",
              "        const charts = await google.colab.kernel.invokeFunction(\n",
              "            'suggestCharts', [key], {});\n",
              "      } catch (error) {\n",
              "        console.error('Error during call to suggestCharts:', error);\n",
              "      }\n",
              "      quickchartButtonEl.classList.remove('colab-df-spinner');\n",
              "      quickchartButtonEl.classList.add('colab-df-quickchart-complete');\n",
              "    }\n",
              "    (() => {\n",
              "      let quickchartButtonEl =\n",
              "        document.querySelector('#df-96f1e589-e329-4b48-935a-d26005e0778c button');\n",
              "      quickchartButtonEl.style.display =\n",
              "        google.colab.kernel.accessAllowed ? 'block' : 'none';\n",
              "    })();\n",
              "  </script>\n",
              "</div>\n",
              "\n",
              "    </div>\n",
              "  </div>\n"
            ],
            "application/vnd.google.colaboratory.intrinsic+json": {
              "type": "dataframe",
              "variable_name": "nbaPStats"
            }
          },
          "metadata": {},
          "execution_count": 10
        }
      ],
      "source": [
        "# calculating total fantasy points\n",
        "nbaPStats['FP'] = (nbaPStats['PTS'] + nbaPStats['3P'] - nbaPStats['FGA'] + (2 * nbaPStats['FG']) - nbaPStats['FTA'] + nbaPStats['FT'] + nbaPStats['TRB'] + (2 * nbaPStats['AST']) + (4 * nbaPStats['STL']) + (4 * nbaPStats['BLK'])) * nbaPStats['G']\n",
        "\n",
        "# calculating fantasy points average\n",
        "nbaPStats['FPA'] = nbaPStats['PTS'] + nbaPStats['3P'] - nbaPStats['FGA'] + (2 * nbaPStats['FG']) - nbaPStats['FTA'] + nbaPStats['FT'] + nbaPStats['TRB'] + (2 * nbaPStats['AST']) + (4 * nbaPStats['STL']) + (4 * nbaPStats['BLK'])\n",
        "\n",
        "nbaPStats.head()"
      ]
    },
    {
      "cell_type": "markdown",
      "metadata": {
        "id": "T-OgdZsLrzFh"
      },
      "source": [
        "Since we are interested in looking at the relationship between these stats and their relationship with the player's fantasy performance for the next season, it makes sense to add two more columns, next_FP and next_FPA. These variables stand for the players fantasy points and fantasy point average in the following season. If this number is -1, it means the player did not play in the following season."
      ]
    },
    {
      "cell_type": "code",
      "execution_count": null,
      "metadata": {
        "id": "Q-T9KRD37MMn"
      },
      "outputs": [],
      "source": [
        "def get_next_FP(row):\n",
        "    player = row[\"Player\"]\n",
        "    season = row[\"Season\"]\n",
        "\n",
        "    # Get following season\n",
        "    season_yr1 = int(season[:4])\n",
        "    season_yr2 = int(season[-2:])\n",
        "    next_season = (str(season_yr1 + 1) + \"-0\" + str(season_yr2 + 1)) if season_yr2 < 10 else (str(season_yr1 + 1) + \"-\" + str(season_yr2 + 1))\n",
        "\n",
        "    # Find player's stats for the following season\n",
        "    player_year = nbaPStats.loc[(nbaPStats[\"Player\"] == player) & (nbaPStats[\"Season\"] == next_season)]\n",
        "\n",
        "    if player_year.empty:\n",
        "        next_FP = -1\n",
        "    else:\n",
        "        # Calculate total fantasy points\n",
        "        fantasy_stats = (player_year['PTS'] + player_year['3P'] - player_year['FGA'] + (2 * player_year['FG']) - player_year['FTA'] + player_year['FT'] + player_year['TRB'] + (2 * player_year['AST']) + (4 * player_year['STL']) + (4 * player_year['BLK']))\n",
        "\n",
        "        # Calculate total and average fantasy points\n",
        "        next_FP = (fantasy_stats * player_year[\"G\"]).iloc[0]  # Extract the float value\n",
        "\n",
        "    return next_FP"
      ]
    },
    {
      "cell_type": "code",
      "execution_count": null,
      "metadata": {
        "id": "RxzlvwCr7yf8"
      },
      "outputs": [],
      "source": [
        "def get_next_FPA(row):\n",
        "    player = row[\"Player\"]\n",
        "    season = row[\"Season\"]\n",
        "\n",
        "    # Get following season\n",
        "    season_yr1 = int(season[:4])\n",
        "    season_yr2 = int(season[-2:])\n",
        "    next_season = (str(season_yr1 + 1) + \"-0\" + str(season_yr2 + 1)) if season_yr2 < 10 else (str(season_yr1 + 1) + \"-\" + str(season_yr2 + 1))\n",
        "\n",
        "    # Find player's stats for the following season\n",
        "    player_year = nbaPStats.loc[(nbaPStats[\"Player\"] == player) & (nbaPStats[\"Season\"] == next_season)]\n",
        "\n",
        "    if player_year.empty:\n",
        "        next_FP = -1\n",
        "    else:\n",
        "        # Calculate total fantasy points\n",
        "        fantasy_stats = (player_year['PTS'] + player_year['3P'] - player_year['FGA'] + (2 * player_year['FG']) - player_year['FTA'] + player_year['FT'] + player_year['TRB'] + (2 * player_year['AST']) + (4 * player_year['STL']) + (4 * player_year['BLK']))\n",
        "\n",
        "        # Calculate total and average fantasy points\n",
        "        next_FP = (fantasy_stats).iloc[0]  # Extract the float value\n",
        "\n",
        "    return next_FP"
      ]
    },
    {
      "cell_type": "code",
      "execution_count": null,
      "metadata": {
        "id": "rpwLyIHb8Dej",
        "colab": {
          "base_uri": "https://localhost:8080/"
        },
        "outputId": "15c980d2-ca11-42eb-8264-01ee422f8ad2"
      },
      "outputs": [
        {
          "output_type": "error",
          "ename": "KeyboardInterrupt",
          "evalue": "",
          "traceback": [
            "\u001b[0;31m---------------------------------------------------------------------------\u001b[0m",
            "\u001b[0;31mKeyboardInterrupt\u001b[0m                         Traceback (most recent call last)",
            "\u001b[0;32m<ipython-input-16-901f418a7b17>\u001b[0m in \u001b[0;36m<cell line: 1>\u001b[0;34m()\u001b[0m\n\u001b[0;32m----> 1\u001b[0;31m \u001b[0mnbaPStats\u001b[0m\u001b[0;34m[\u001b[0m\u001b[0;34m\"next_FP\"\u001b[0m\u001b[0;34m]\u001b[0m \u001b[0;34m=\u001b[0m \u001b[0mnbaPStats\u001b[0m\u001b[0;34m.\u001b[0m\u001b[0mapply\u001b[0m\u001b[0;34m(\u001b[0m\u001b[0mget_next_FP\u001b[0m\u001b[0;34m,\u001b[0m \u001b[0maxis\u001b[0m\u001b[0;34m=\u001b[0m\u001b[0;36m1\u001b[0m\u001b[0;34m)\u001b[0m\u001b[0;34m\u001b[0m\u001b[0;34m\u001b[0m\u001b[0m\n\u001b[0m\u001b[1;32m      2\u001b[0m \u001b[0mnbaPStats\u001b[0m\u001b[0;34m[\u001b[0m\u001b[0;34m\"next_FPA\"\u001b[0m\u001b[0;34m]\u001b[0m \u001b[0;34m=\u001b[0m \u001b[0mnbaPStats\u001b[0m\u001b[0;34m.\u001b[0m\u001b[0mapply\u001b[0m\u001b[0;34m(\u001b[0m\u001b[0mget_next_FPA\u001b[0m\u001b[0;34m,\u001b[0m \u001b[0maxis\u001b[0m\u001b[0;34m=\u001b[0m\u001b[0;36m1\u001b[0m\u001b[0;34m)\u001b[0m\u001b[0;34m\u001b[0m\u001b[0;34m\u001b[0m\u001b[0m\n",
            "\u001b[0;32m/usr/local/lib/python3.10/dist-packages/pandas/core/frame.py\u001b[0m in \u001b[0;36mapply\u001b[0;34m(self, func, axis, raw, result_type, args, **kwargs)\u001b[0m\n\u001b[1;32m   9421\u001b[0m             \u001b[0mkwargs\u001b[0m\u001b[0;34m=\u001b[0m\u001b[0mkwargs\u001b[0m\u001b[0;34m,\u001b[0m\u001b[0;34m\u001b[0m\u001b[0;34m\u001b[0m\u001b[0m\n\u001b[1;32m   9422\u001b[0m         )\n\u001b[0;32m-> 9423\u001b[0;31m         \u001b[0;32mreturn\u001b[0m \u001b[0mop\u001b[0m\u001b[0;34m.\u001b[0m\u001b[0mapply\u001b[0m\u001b[0;34m(\u001b[0m\u001b[0;34m)\u001b[0m\u001b[0;34m.\u001b[0m\u001b[0m__finalize__\u001b[0m\u001b[0;34m(\u001b[0m\u001b[0mself\u001b[0m\u001b[0;34m,\u001b[0m \u001b[0mmethod\u001b[0m\u001b[0;34m=\u001b[0m\u001b[0;34m\"apply\"\u001b[0m\u001b[0;34m)\u001b[0m\u001b[0;34m\u001b[0m\u001b[0;34m\u001b[0m\u001b[0m\n\u001b[0m\u001b[1;32m   9424\u001b[0m \u001b[0;34m\u001b[0m\u001b[0m\n\u001b[1;32m   9425\u001b[0m     def applymap(\n",
            "\u001b[0;32m/usr/local/lib/python3.10/dist-packages/pandas/core/apply.py\u001b[0m in \u001b[0;36mapply\u001b[0;34m(self)\u001b[0m\n\u001b[1;32m    676\u001b[0m             \u001b[0;32mreturn\u001b[0m \u001b[0mself\u001b[0m\u001b[0;34m.\u001b[0m\u001b[0mapply_raw\u001b[0m\u001b[0;34m(\u001b[0m\u001b[0;34m)\u001b[0m\u001b[0;34m\u001b[0m\u001b[0;34m\u001b[0m\u001b[0m\n\u001b[1;32m    677\u001b[0m \u001b[0;34m\u001b[0m\u001b[0m\n\u001b[0;32m--> 678\u001b[0;31m         \u001b[0;32mreturn\u001b[0m \u001b[0mself\u001b[0m\u001b[0;34m.\u001b[0m\u001b[0mapply_standard\u001b[0m\u001b[0;34m(\u001b[0m\u001b[0;34m)\u001b[0m\u001b[0;34m\u001b[0m\u001b[0;34m\u001b[0m\u001b[0m\n\u001b[0m\u001b[1;32m    679\u001b[0m \u001b[0;34m\u001b[0m\u001b[0m\n\u001b[1;32m    680\u001b[0m     \u001b[0;32mdef\u001b[0m \u001b[0magg\u001b[0m\u001b[0;34m(\u001b[0m\u001b[0mself\u001b[0m\u001b[0;34m)\u001b[0m\u001b[0;34m:\u001b[0m\u001b[0;34m\u001b[0m\u001b[0;34m\u001b[0m\u001b[0m\n",
            "\u001b[0;32m/usr/local/lib/python3.10/dist-packages/pandas/core/apply.py\u001b[0m in \u001b[0;36mapply_standard\u001b[0;34m(self)\u001b[0m\n\u001b[1;32m    796\u001b[0m \u001b[0;34m\u001b[0m\u001b[0m\n\u001b[1;32m    797\u001b[0m     \u001b[0;32mdef\u001b[0m \u001b[0mapply_standard\u001b[0m\u001b[0;34m(\u001b[0m\u001b[0mself\u001b[0m\u001b[0;34m)\u001b[0m\u001b[0;34m:\u001b[0m\u001b[0;34m\u001b[0m\u001b[0;34m\u001b[0m\u001b[0m\n\u001b[0;32m--> 798\u001b[0;31m         \u001b[0mresults\u001b[0m\u001b[0;34m,\u001b[0m \u001b[0mres_index\u001b[0m \u001b[0;34m=\u001b[0m \u001b[0mself\u001b[0m\u001b[0;34m.\u001b[0m\u001b[0mapply_series_generator\u001b[0m\u001b[0;34m(\u001b[0m\u001b[0;34m)\u001b[0m\u001b[0;34m\u001b[0m\u001b[0;34m\u001b[0m\u001b[0m\n\u001b[0m\u001b[1;32m    799\u001b[0m \u001b[0;34m\u001b[0m\u001b[0m\n\u001b[1;32m    800\u001b[0m         \u001b[0;31m# wrap results\u001b[0m\u001b[0;34m\u001b[0m\u001b[0;34m\u001b[0m\u001b[0m\n",
            "\u001b[0;32m/usr/local/lib/python3.10/dist-packages/pandas/core/apply.py\u001b[0m in \u001b[0;36mapply_series_generator\u001b[0;34m(self)\u001b[0m\n\u001b[1;32m    812\u001b[0m             \u001b[0;32mfor\u001b[0m \u001b[0mi\u001b[0m\u001b[0;34m,\u001b[0m \u001b[0mv\u001b[0m \u001b[0;32min\u001b[0m \u001b[0menumerate\u001b[0m\u001b[0;34m(\u001b[0m\u001b[0mseries_gen\u001b[0m\u001b[0;34m)\u001b[0m\u001b[0;34m:\u001b[0m\u001b[0;34m\u001b[0m\u001b[0;34m\u001b[0m\u001b[0m\n\u001b[1;32m    813\u001b[0m                 \u001b[0;31m# ignore SettingWithCopy here in case the user mutates\u001b[0m\u001b[0;34m\u001b[0m\u001b[0;34m\u001b[0m\u001b[0m\n\u001b[0;32m--> 814\u001b[0;31m                 \u001b[0mresults\u001b[0m\u001b[0;34m[\u001b[0m\u001b[0mi\u001b[0m\u001b[0;34m]\u001b[0m \u001b[0;34m=\u001b[0m \u001b[0mself\u001b[0m\u001b[0;34m.\u001b[0m\u001b[0mf\u001b[0m\u001b[0;34m(\u001b[0m\u001b[0mv\u001b[0m\u001b[0;34m)\u001b[0m\u001b[0;34m\u001b[0m\u001b[0;34m\u001b[0m\u001b[0m\n\u001b[0m\u001b[1;32m    815\u001b[0m                 \u001b[0;32mif\u001b[0m \u001b[0misinstance\u001b[0m\u001b[0;34m(\u001b[0m\u001b[0mresults\u001b[0m\u001b[0;34m[\u001b[0m\u001b[0mi\u001b[0m\u001b[0;34m]\u001b[0m\u001b[0;34m,\u001b[0m \u001b[0mABCSeries\u001b[0m\u001b[0;34m)\u001b[0m\u001b[0;34m:\u001b[0m\u001b[0;34m\u001b[0m\u001b[0;34m\u001b[0m\u001b[0m\n\u001b[1;32m    816\u001b[0m                     \u001b[0;31m# If we have a view on v, we need to make a copy because\u001b[0m\u001b[0;34m\u001b[0m\u001b[0;34m\u001b[0m\u001b[0m\n",
            "\u001b[0;32m<ipython-input-14-17da5037c779>\u001b[0m in \u001b[0;36mget_next_FP\u001b[0;34m(row)\u001b[0m\n\u001b[1;32m      9\u001b[0m \u001b[0;34m\u001b[0m\u001b[0m\n\u001b[1;32m     10\u001b[0m     \u001b[0;31m# Find player's stats for the following season\u001b[0m\u001b[0;34m\u001b[0m\u001b[0;34m\u001b[0m\u001b[0m\n\u001b[0;32m---> 11\u001b[0;31m     \u001b[0mplayer_year\u001b[0m \u001b[0;34m=\u001b[0m \u001b[0mnbaPStats\u001b[0m\u001b[0;34m.\u001b[0m\u001b[0mloc\u001b[0m\u001b[0;34m[\u001b[0m\u001b[0;34m(\u001b[0m\u001b[0mnbaPStats\u001b[0m\u001b[0;34m[\u001b[0m\u001b[0;34m\"Player\"\u001b[0m\u001b[0;34m]\u001b[0m \u001b[0;34m==\u001b[0m \u001b[0mplayer\u001b[0m\u001b[0;34m)\u001b[0m \u001b[0;34m&\u001b[0m \u001b[0;34m(\u001b[0m\u001b[0mnbaPStats\u001b[0m\u001b[0;34m[\u001b[0m\u001b[0;34m\"Season\"\u001b[0m\u001b[0;34m]\u001b[0m \u001b[0;34m==\u001b[0m \u001b[0mnext_season\u001b[0m\u001b[0;34m)\u001b[0m\u001b[0;34m]\u001b[0m\u001b[0;34m\u001b[0m\u001b[0;34m\u001b[0m\u001b[0m\n\u001b[0m\u001b[1;32m     12\u001b[0m \u001b[0;34m\u001b[0m\u001b[0m\n\u001b[1;32m     13\u001b[0m     \u001b[0;32mif\u001b[0m \u001b[0mplayer_year\u001b[0m\u001b[0;34m.\u001b[0m\u001b[0mempty\u001b[0m\u001b[0;34m:\u001b[0m\u001b[0;34m\u001b[0m\u001b[0;34m\u001b[0m\u001b[0m\n",
            "\u001b[0;32m/usr/local/lib/python3.10/dist-packages/pandas/core/ops/common.py\u001b[0m in \u001b[0;36mnew_method\u001b[0;34m(self, other)\u001b[0m\n\u001b[1;32m     79\u001b[0m         \u001b[0mother\u001b[0m \u001b[0;34m=\u001b[0m \u001b[0mitem_from_zerodim\u001b[0m\u001b[0;34m(\u001b[0m\u001b[0mother\u001b[0m\u001b[0;34m)\u001b[0m\u001b[0;34m\u001b[0m\u001b[0;34m\u001b[0m\u001b[0m\n\u001b[1;32m     80\u001b[0m \u001b[0;34m\u001b[0m\u001b[0m\n\u001b[0;32m---> 81\u001b[0;31m         \u001b[0;32mreturn\u001b[0m \u001b[0mmethod\u001b[0m\u001b[0;34m(\u001b[0m\u001b[0mself\u001b[0m\u001b[0;34m,\u001b[0m \u001b[0mother\u001b[0m\u001b[0;34m)\u001b[0m\u001b[0;34m\u001b[0m\u001b[0;34m\u001b[0m\u001b[0m\n\u001b[0m\u001b[1;32m     82\u001b[0m \u001b[0;34m\u001b[0m\u001b[0m\n\u001b[1;32m     83\u001b[0m     \u001b[0;32mreturn\u001b[0m \u001b[0mnew_method\u001b[0m\u001b[0;34m\u001b[0m\u001b[0;34m\u001b[0m\u001b[0m\n",
            "\u001b[0;32m/usr/local/lib/python3.10/dist-packages/pandas/core/arraylike.py\u001b[0m in \u001b[0;36m__eq__\u001b[0;34m(self, other)\u001b[0m\n\u001b[1;32m     38\u001b[0m     \u001b[0;34m@\u001b[0m\u001b[0munpack_zerodim_and_defer\u001b[0m\u001b[0;34m(\u001b[0m\u001b[0;34m\"__eq__\"\u001b[0m\u001b[0;34m)\u001b[0m\u001b[0;34m\u001b[0m\u001b[0;34m\u001b[0m\u001b[0m\n\u001b[1;32m     39\u001b[0m     \u001b[0;32mdef\u001b[0m \u001b[0m__eq__\u001b[0m\u001b[0;34m(\u001b[0m\u001b[0mself\u001b[0m\u001b[0;34m,\u001b[0m \u001b[0mother\u001b[0m\u001b[0;34m)\u001b[0m\u001b[0;34m:\u001b[0m\u001b[0;34m\u001b[0m\u001b[0;34m\u001b[0m\u001b[0m\n\u001b[0;32m---> 40\u001b[0;31m         \u001b[0;32mreturn\u001b[0m \u001b[0mself\u001b[0m\u001b[0;34m.\u001b[0m\u001b[0m_cmp_method\u001b[0m\u001b[0;34m(\u001b[0m\u001b[0mother\u001b[0m\u001b[0;34m,\u001b[0m \u001b[0moperator\u001b[0m\u001b[0;34m.\u001b[0m\u001b[0meq\u001b[0m\u001b[0;34m)\u001b[0m\u001b[0;34m\u001b[0m\u001b[0;34m\u001b[0m\u001b[0m\n\u001b[0m\u001b[1;32m     41\u001b[0m \u001b[0;34m\u001b[0m\u001b[0m\n\u001b[1;32m     42\u001b[0m     \u001b[0;34m@\u001b[0m\u001b[0munpack_zerodim_and_defer\u001b[0m\u001b[0;34m(\u001b[0m\u001b[0;34m\"__ne__\"\u001b[0m\u001b[0;34m)\u001b[0m\u001b[0;34m\u001b[0m\u001b[0;34m\u001b[0m\u001b[0m\n",
            "\u001b[0;32m/usr/local/lib/python3.10/dist-packages/pandas/core/series.py\u001b[0m in \u001b[0;36m_cmp_method\u001b[0;34m(self, other, op)\u001b[0m\n\u001b[1;32m   6094\u001b[0m \u001b[0;34m\u001b[0m\u001b[0m\n\u001b[1;32m   6095\u001b[0m         \u001b[0;32mwith\u001b[0m \u001b[0mnp\u001b[0m\u001b[0;34m.\u001b[0m\u001b[0merrstate\u001b[0m\u001b[0;34m(\u001b[0m\u001b[0mall\u001b[0m\u001b[0;34m=\u001b[0m\u001b[0;34m\"ignore\"\u001b[0m\u001b[0;34m)\u001b[0m\u001b[0;34m:\u001b[0m\u001b[0;34m\u001b[0m\u001b[0;34m\u001b[0m\u001b[0m\n\u001b[0;32m-> 6096\u001b[0;31m             \u001b[0mres_values\u001b[0m \u001b[0;34m=\u001b[0m \u001b[0mops\u001b[0m\u001b[0;34m.\u001b[0m\u001b[0mcomparison_op\u001b[0m\u001b[0;34m(\u001b[0m\u001b[0mlvalues\u001b[0m\u001b[0;34m,\u001b[0m \u001b[0mrvalues\u001b[0m\u001b[0;34m,\u001b[0m \u001b[0mop\u001b[0m\u001b[0;34m)\u001b[0m\u001b[0;34m\u001b[0m\u001b[0;34m\u001b[0m\u001b[0m\n\u001b[0m\u001b[1;32m   6097\u001b[0m \u001b[0;34m\u001b[0m\u001b[0m\n\u001b[1;32m   6098\u001b[0m         \u001b[0;32mreturn\u001b[0m \u001b[0mself\u001b[0m\u001b[0;34m.\u001b[0m\u001b[0m_construct_result\u001b[0m\u001b[0;34m(\u001b[0m\u001b[0mres_values\u001b[0m\u001b[0;34m,\u001b[0m \u001b[0mname\u001b[0m\u001b[0;34m=\u001b[0m\u001b[0mres_name\u001b[0m\u001b[0;34m)\u001b[0m\u001b[0;34m\u001b[0m\u001b[0;34m\u001b[0m\u001b[0m\n",
            "\u001b[0;32m/usr/local/lib/python3.10/dist-packages/pandas/core/ops/array_ops.py\u001b[0m in \u001b[0;36mcomparison_op\u001b[0;34m(left, right, op)\u001b[0m\n\u001b[1;32m    291\u001b[0m \u001b[0;34m\u001b[0m\u001b[0m\n\u001b[1;32m    292\u001b[0m     \u001b[0;32melif\u001b[0m \u001b[0mis_object_dtype\u001b[0m\u001b[0;34m(\u001b[0m\u001b[0mlvalues\u001b[0m\u001b[0;34m.\u001b[0m\u001b[0mdtype\u001b[0m\u001b[0;34m)\u001b[0m \u001b[0;32mor\u001b[0m \u001b[0misinstance\u001b[0m\u001b[0;34m(\u001b[0m\u001b[0mrvalues\u001b[0m\u001b[0;34m,\u001b[0m \u001b[0mstr\u001b[0m\u001b[0;34m)\u001b[0m\u001b[0;34m:\u001b[0m\u001b[0;34m\u001b[0m\u001b[0;34m\u001b[0m\u001b[0m\n\u001b[0;32m--> 293\u001b[0;31m         \u001b[0mres_values\u001b[0m \u001b[0;34m=\u001b[0m \u001b[0mcomp_method_OBJECT_ARRAY\u001b[0m\u001b[0;34m(\u001b[0m\u001b[0mop\u001b[0m\u001b[0;34m,\u001b[0m \u001b[0mlvalues\u001b[0m\u001b[0;34m,\u001b[0m \u001b[0mrvalues\u001b[0m\u001b[0;34m)\u001b[0m\u001b[0;34m\u001b[0m\u001b[0;34m\u001b[0m\u001b[0m\n\u001b[0m\u001b[1;32m    294\u001b[0m \u001b[0;34m\u001b[0m\u001b[0m\n\u001b[1;32m    295\u001b[0m     \u001b[0;32melse\u001b[0m\u001b[0;34m:\u001b[0m\u001b[0;34m\u001b[0m\u001b[0;34m\u001b[0m\u001b[0m\n",
            "\u001b[0;32m/usr/local/lib/python3.10/dist-packages/pandas/core/ops/array_ops.py\u001b[0m in \u001b[0;36mcomp_method_OBJECT_ARRAY\u001b[0;34m(op, x, y)\u001b[0m\n\u001b[1;32m     80\u001b[0m         \u001b[0mresult\u001b[0m \u001b[0;34m=\u001b[0m \u001b[0mlibops\u001b[0m\u001b[0;34m.\u001b[0m\u001b[0mvec_compare\u001b[0m\u001b[0;34m(\u001b[0m\u001b[0mx\u001b[0m\u001b[0;34m.\u001b[0m\u001b[0mravel\u001b[0m\u001b[0;34m(\u001b[0m\u001b[0;34m)\u001b[0m\u001b[0;34m,\u001b[0m \u001b[0my\u001b[0m\u001b[0;34m.\u001b[0m\u001b[0mravel\u001b[0m\u001b[0;34m(\u001b[0m\u001b[0;34m)\u001b[0m\u001b[0;34m,\u001b[0m \u001b[0mop\u001b[0m\u001b[0;34m)\u001b[0m\u001b[0;34m\u001b[0m\u001b[0;34m\u001b[0m\u001b[0m\n\u001b[1;32m     81\u001b[0m     \u001b[0;32melse\u001b[0m\u001b[0;34m:\u001b[0m\u001b[0;34m\u001b[0m\u001b[0;34m\u001b[0m\u001b[0m\n\u001b[0;32m---> 82\u001b[0;31m         \u001b[0mresult\u001b[0m \u001b[0;34m=\u001b[0m \u001b[0mlibops\u001b[0m\u001b[0;34m.\u001b[0m\u001b[0mscalar_compare\u001b[0m\u001b[0;34m(\u001b[0m\u001b[0mx\u001b[0m\u001b[0;34m.\u001b[0m\u001b[0mravel\u001b[0m\u001b[0;34m(\u001b[0m\u001b[0;34m)\u001b[0m\u001b[0;34m,\u001b[0m \u001b[0my\u001b[0m\u001b[0;34m,\u001b[0m \u001b[0mop\u001b[0m\u001b[0;34m)\u001b[0m\u001b[0;34m\u001b[0m\u001b[0;34m\u001b[0m\u001b[0m\n\u001b[0m\u001b[1;32m     83\u001b[0m     \u001b[0;32mreturn\u001b[0m \u001b[0mresult\u001b[0m\u001b[0;34m.\u001b[0m\u001b[0mreshape\u001b[0m\u001b[0;34m(\u001b[0m\u001b[0mx\u001b[0m\u001b[0;34m.\u001b[0m\u001b[0mshape\u001b[0m\u001b[0;34m)\u001b[0m\u001b[0;34m\u001b[0m\u001b[0;34m\u001b[0m\u001b[0m\n\u001b[1;32m     84\u001b[0m \u001b[0;34m\u001b[0m\u001b[0m\n",
            "\u001b[0;31mKeyboardInterrupt\u001b[0m: "
          ]
        }
      ],
      "source": [
        "nbaPStats[\"next_FP\"] = nbaPStats.apply(get_next_FP, axis=1)\n",
        "nbaPStats[\"next_FPA\"] = nbaPStats.apply(get_next_FPA, axis=1)"
      ]
    },
    {
      "cell_type": "code",
      "execution_count": null,
      "metadata": {
        "id": "R9heE69VsW19"
      },
      "outputs": [],
      "source": [
        "nbaPStats.head()"
      ]
    },
    {
      "cell_type": "markdown",
      "metadata": {
        "id": "paS4v-_BfqHL"
      },
      "source": [
        "To export as HTML"
      ]
    },
    {
      "cell_type": "code",
      "execution_count": null,
      "metadata": {
        "id": "eizT3LHcfo7G"
      },
      "outputs": [],
      "source": [
        "%%shell\n",
        "jupyter nbconvert --to html /content/reidm340.github.io/\"Millers'_DS_Project.ipynb\""
      ]
    },
    {
      "cell_type": "markdown",
      "metadata": {
        "id": "QUhjt7K5f9yD"
      },
      "source": [
        "###Grouping the data"
      ]
    },
    {
      "cell_type": "markdown",
      "metadata": {
        "id": "RQ4E58sVgIMU"
      },
      "source": [
        "We want to group the data such that we can anaylize player stats and compare them to others in thier year.\n",
        "\n",
        "Also stats depend on the system (strategy) a team plays with. Therefore, we also want to have another data set that isolates our original data set by team and by year at the same time."
      ]
    },
    {
      "cell_type": "code",
      "execution_count": null,
      "metadata": {
        "id": "r69jhabAgqOW"
      },
      "outputs": [],
      "source": [
        "PStats_by_year = nbaPStats.groupby(['Season'])\n",
        "\n",
        "PStats_by_team = nbaPStats.groupby(['Season', 'Tm'])"
      ]
    },
    {
      "cell_type": "code",
      "execution_count": null,
      "metadata": {
        "id": "lk0yN4_1hit4"
      },
      "outputs": [],
      "source": [
        "PStats_by_year.ngroups\n"
      ]
    },
    {
      "cell_type": "markdown",
      "metadata": {
        "id": "NkPK-se_isN0"
      },
      "source": [
        "We have 25 years in this data set so it worked!"
      ]
    },
    {
      "cell_type": "code",
      "execution_count": null,
      "metadata": {
        "id": "Kul_O0R6ikaT"
      },
      "outputs": [],
      "source": [
        "PStats_by_team.ngroups"
      ]
    },
    {
      "cell_type": "markdown",
      "metadata": {
        "id": "NM6CcbMhizYG"
      },
      "source": [
        "Because of NBA expansion teams there have only been 768 teams and not (25*32) 800 teams as you might expect"
      ]
    },
    {
      "cell_type": "markdown",
      "metadata": {
        "id": "K6-bxavS3Afu"
      },
      "source": [
        "###Scaling the data"
      ]
    },
    {
      "cell_type": "markdown",
      "metadata": {
        "id": "zm5VIUlN5l42"
      },
      "source": [
        "Scaling our data is super important, especially by year. With rule changes and just general progression of the sport of basketball, the way in which the game is played differs from \"era to \"era\". For example, currently there is a new archetype of player which I will call the Wemby architype. He is a tall, thin center with high scoring and blocks. The is differnet from a Shaq architype that is physical and scores alot playing bully ball (From the 2000s). Because of rule changes and advancement in the leauge a less mobile, physical player may not be as effective as in the the 2000s. Therefore it is only fair to scale the data by year."
      ]
    },
    {
      "cell_type": "markdown",
      "metadata": {
        "id": "UsXHBtgd9XWc"
      },
      "source": [
        "For scaling the data we will be using z-standardization. The stats that we are interested in scaling are FG, FGA, FG%, 3P, 3PA, 3P%, 2P, 2PA, 2P%, FT, FTA, FT%, TS%, FP, FPA.\n",
        "\n"
      ]
    },
    {
      "cell_type": "markdown",
      "metadata": {
        "id": "KqDS_4lHLu0E"
      },
      "source": [
        "By having all this data seperated into groups makes this significantly more complicated and is not as straightforward as modifying the dataset. Therefore I have to define a function that does all of the modification and then apply it to the groupby function so that it then runs the function on each dataset. Also by making it a function if we want to do this analysis on any future datasets that we have not created yet, we can just run this instead of modifying the future datasets by hand"
      ]
    },
    {
      "cell_type": "code",
      "execution_count": null,
      "metadata": {
        "id": "qwXWtt0l1FIQ"
      },
      "outputs": [],
      "source": [
        "std_year_PStats = PStats_by_year"
      ]
    },
    {
      "cell_type": "code",
      "execution_count": null,
      "metadata": {
        "id": "_Pce6irnYcsz"
      },
      "outputs": [],
      "source": [
        "def calculate_group_stats(group):\n",
        "    group_stats = {}\n",
        "    for col in ['FG', 'FGA', 'FG%', '3P', '3PA', '3P%', '2P', '2PA', '2P%', 'FT', 'FTA', 'FT%', 'TS%', 'FP', 'FPA']:\n",
        "        group_stats[col] = {\n",
        "            'mean': group[col].mean(),\n",
        "            'std': group[col].std()\n",
        "        }\n",
        "    return group_stats\n"
      ]
    },
    {
      "cell_type": "code",
      "execution_count": null,
      "metadata": {
        "id": "y7orG99P9p1g"
      },
      "outputs": [],
      "source": [
        "def standardize_full(group, group_stats):\n",
        "    for col, stat in group_stats.items():\n",
        "        if col in group.columns:\n",
        "            group[col] = (group[col] - stat['mean']) / stat['std']\n",
        "    return group"
      ]
    },
    {
      "cell_type": "code",
      "execution_count": null,
      "metadata": {
        "id": "TYdvL9nybX73"
      },
      "outputs": [],
      "source": [
        "def standardize_groupby(data):\n",
        "  return data.apply(lambda x: standardize_full(x.copy(), calculate_group_stats(x)))\n"
      ]
    },
    {
      "cell_type": "markdown",
      "metadata": {
        "id": "fA3Y4GMS03Ar"
      },
      "source": [
        "this below function was supposed to automate making the groupby function but it doesnt seem to work, so we are not actually using it, but hopefully later updates and implimitaion will make the below block of code work so that it can be generalized for other projects."
      ]
    },
    {
      "cell_type": "code",
      "execution_count": null,
      "metadata": {
        "id": "ZjuKqIQamOHU"
      },
      "outputs": [],
      "source": [
        "#orig_df is the original groupby function\n",
        "#new_df_name - self explanitory\n",
        "def i_gave_up_naming(orig_df, new_df_name, by1, by2 = None):\n",
        "  a = standardize_groupby(orig_df)\n",
        "  #creates a non standardized copy with nonstd at end\n",
        "\n",
        "  if by2 is None:\n",
        "    new_df_name = a.groupby([by1])\n",
        "  else:\n",
        "    new_df_name = a.groupby([by1, by2])\n",
        "  return new_df_name\n"
      ]
    },
    {
      "cell_type": "markdown",
      "metadata": {
        "id": "t-g5C04DOMxt"
      },
      "source": [
        "Now I'm going to apply standardization to both the groupby objects. I want to be able to reference the non-standardized data so I am going to make a copy of the groupby object and run it on that copy"
      ]
    },
    {
      "cell_type": "code",
      "execution_count": null,
      "metadata": {
        "id": "rSIE_39DqRmS"
      },
      "outputs": [],
      "source": [
        "by_year = standardize_groupby(std_year_PStats)\n",
        "\n",
        "by_year"
      ]
    },
    {
      "cell_type": "markdown",
      "metadata": {
        "id": "EP9UqgxsQ4gp"
      },
      "source": [
        "Now to check if it worked"
      ]
    },
    {
      "cell_type": "code",
      "execution_count": null,
      "metadata": {
        "id": "0xRFxQ5R25J3"
      },
      "outputs": [],
      "source": [
        "season2010 = by_year[by_year['Season'] == '2010-11']\n",
        "print(season2010.describe())"
      ]
    },
    {
      "cell_type": "markdown",
      "metadata": {
        "id": "E_dtqMih75bo"
      },
      "source": [
        "Because the mean of all of the modified columns are super close to 0 (e-17), therefore 2010-2011 is standardized! if it was standardized over the whole set and not just based off its own year, you would expect the mean to be further from 0 on every stat."
      ]
    },
    {
      "cell_type": "markdown",
      "metadata": {
        "id": "bL7pomWo9i-p"
      },
      "source": [
        "Now standardizing the year and team set"
      ]
    },
    {
      "cell_type": "code",
      "execution_count": null,
      "metadata": {
        "id": "a2BHVtga8rJd"
      },
      "outputs": [],
      "source": [
        "by_team = standardize_groupby(std_year_PStats)"
      ]
    },
    {
      "cell_type": "markdown",
      "source": [
        "# Requirment for Milestone 2"
      ],
      "metadata": {
        "id": "-naHYXm0RYh3"
      }
    },
    {
      "cell_type": "markdown",
      "source": [
        "We are already well on our way to completing the final milestone. We have already added k-nearest neighbors and dobe a bunch of standardizing among many other things that we want for our final product. Therefore the requirment for Milestone 2 will partially be self contained in this section (we have more than 5 tables in the Formating the Data section.) There are 2 graphs in the Machine Learning section.\n",
        "\n",
        "This below section directly answers the Model Questions part of the rubric and contains three more graphs with markdown explination about their significance in understanding our own data"
      ],
      "metadata": {
        "id": "bp3z-eczRtw-"
      }
    },
    {
      "cell_type": "markdown",
      "source": [
        "**Model Questions Discussion:**\n",
        "\n",
        "Our first model for predicting a player’s fantasy points will be a K-Nearest Neighbors regression model. Our model will be trained on the following features: position, age, team, games played, games started, minutes played, field goals, field goals attempted, field goal percentage, three-point field goals, three-point field goals attempted, three-point percentage, two-point field goals, two-point field goals attempted, two-point field goal percentage, free throws, free throws attempted, free throw percentage, offensive rebounds, defensive rebounds, total rebounds, assists, steals, blocks, turnovers, personal fouls, points, and season. We plan to find the number of neighbors that minimizes our error estimate, and then use that K-Nearest Neighbors model to predict a player’s fantasy score next season given the current season. We plan to use this regression both on the raw data and the scaled and standardized data. Our second model for predicting a player’s fantasy points will be a Decision Tree model, where we use the same features as above to construct a tree. This model will again be used on both the raw data and the scaled and standardized data."
      ],
      "metadata": {
        "id": "nazl6rxrTlIg"
      }
    },
    {
      "cell_type": "code",
      "source": [
        "mean_FPA_per_year = PStats_by_year['FPA'].mean()\n",
        "mean_FPA_per_year"
      ],
      "metadata": {
        "id": "AINSR-OXRkTQ"
      },
      "execution_count": null,
      "outputs": []
    },
    {
      "cell_type": "markdown",
      "source": [
        "Above is the mean for fantasy points for every season. Below is a graphical representation of the progression of fantasy points throuout the seasons. Since the best fit line is positivly sloping (the result of the linear regression), it is safe to say that fantasy points, on average, increase year over year. Therefore as the game continues to evole, fantasy points slowly increase. This is something that we should include in our model so we predict slightly higher averages in following years."
      ],
      "metadata": {
        "id": "NGZpOBA0WOgV"
      }
    },
    {
      "cell_type": "code",
      "source": [
        "mean_FPAs = mean_FPA_per_year.to_list()\n",
        "years = mean_FPA_per_year.index.to_list()\n",
        "seasons = [year.split('-')[-1] for year in years]  # makes the labels easier to read by far\n",
        "\n",
        "seasons_as_numbers = np.array([int(season) for season in seasons])\n",
        "mean_FPs = mean_FPA_per_year.to_numpy()\n",
        "\n",
        "\n",
        "plt.xticks(rotation=45)\n",
        "plt.plot(seasons, mean_FPAs)\n",
        "\n",
        "plt.xlabel(\"Season\")\n",
        "plt.ylabel(\"Mean FPA\")\n",
        "plt.title(\"Mean FPA per Season\")\n",
        "\n",
        "plt.xticks(rotation=0)\n",
        "plt.grid(True)\n",
        "plt.grid(True, linestyle='--', linewidth=0.5)\n",
        "\n",
        "# Perform quadratic regression to find the best fit line\n",
        "m = np.polyfit(seasons_as_numbers, mean_FPAs, 2)\n",
        "\n",
        "# Calculate the best fit line\n",
        "best_fit_line = np.polyval(m, seasons_as_numbers)\n",
        "\n",
        "# Create the blue line plot with markers\n",
        "plt.plot(seasons, mean_FPA_per_year.to_numpy(), color='blue', marker='o', markersize=8)\n",
        "\n",
        "# Plot the best fit line in red\n",
        "plt.plot(seasons, best_fit_line, color='red', linestyle='-')  # Solid red line\n",
        "\n",
        "plt.show()\n",
        "\n"
      ],
      "metadata": {
        "id": "Y7UPGnXjWO_U"
      },
      "execution_count": null,
      "outputs": []
    },
    {
      "cell_type": "code",
      "source": [
        "mean_TS_per_year = PStats_by_year['TS%'].mean()\n",
        "mean_TS_per_year"
      ],
      "metadata": {
        "id": "l1GxfP3vftyP"
      },
      "execution_count": null,
      "outputs": []
    },
    {
      "cell_type": "markdown",
      "source": [
        "Above is the mean for true shooting percentage for every season. Below is a graphical representation of the progression of true shooting percentage throuout the seasons. Since the best fit line is positivly sloping (the result of the linear regression), it is safe to say that true shooting percentage, on average, increases year over year. This shows that offences are more effecent and there are less \"bad shots\". This is something that we should include in our model so we predict slightly higher offensive output averages in following years. Offense can be defined by point, 3P, 2P, FT among others."
      ],
      "metadata": {
        "id": "n94QgSydh_pp"
      }
    },
    {
      "cell_type": "code",
      "source": [
        "mean_TS = mean_TS_per_year.to_list()\n",
        "seasons = [year.split('-')[-1] for year in years]  # makes the labels easier to read by far in my opinion\n",
        "\n",
        "seasons_as_numbers = np.array([int(season) for season in seasons])\n",
        "\n",
        "plt.xticks(rotation=45)\n",
        "plt.plot(seasons, mean_TS)\n",
        "\n",
        "plt.xlabel(\"Season\")\n",
        "plt.ylabel(\"Mean TS%\")\n",
        "plt.title(\"Mean TS% per Season\")\n",
        "\n",
        "plt.xticks(rotation=0)\n",
        "plt.grid(True)\n",
        "plt.grid(True, linestyle='--', linewidth=0.5)\n",
        "\n",
        "# Perform quadratic regression to find the best fit line\n",
        "m = np.polyfit(seasons_as_numbers, mean_TS, 2)\n",
        "\n",
        "# Calculate the best fit line\n",
        "best_fit_line = np.polyval(m, seasons_as_numbers)\n",
        "\n",
        "# Create the blue line plot with markers\n",
        "plt.plot(seasons, mean_TS_per_year.to_numpy(), color='blue', marker='o', markersize=8)\n",
        "\n",
        "# Plot the best fit line in red\n",
        "plt.plot(seasons, best_fit_line, color='red', linestyle='-')  # Solid red line\n",
        "\n",
        "plt.show()\n"
      ],
      "metadata": {
        "id": "tvAItjdFgA5q"
      },
      "execution_count": null,
      "outputs": []
    },
    {
      "cell_type": "code",
      "source": [
        "mean_BLK_per_year = PStats_by_year['BLK'].mean()\n",
        "mean_TS_per_year"
      ],
      "metadata": {
        "id": "F5QRHJTcj6zC"
      },
      "execution_count": null,
      "outputs": []
    },
    {
      "cell_type": "markdown",
      "source": [
        "Above is the mean for blocks for every season. Below is a graphical representation of the progression of blocks throuhout the seasons. Since the best fit line is negitivly sloping (the result of the linear regression), it is safe to say that blocks, on average, decreases year over year. But unlike the others, the variation is quite high, but the trend itself is evedent. This shows that offences are getting better (coraberated by the increase of true shooting precentage) and that there are less poor quality shots that have the posiblity to be blocked (this again is coraberated by TS%). This result makes sense because fantasy points has been increasign slowly, and not quickly, therefore at least one statistic had to be decreasing year by year. This shows that maybe blocks should be given more value in fantasty, as it is becoming more rare, and I would not be surprised if this standard is updated. This helps our model, because we can start putting less focus on blocks possibly."
      ],
      "metadata": {
        "id": "PHboXdaPlaag"
      }
    },
    {
      "cell_type": "code",
      "source": [
        "mean_BLK = mean_BLK_per_year.to_list()\n",
        "seasons = [year.split('-')[-1] for year in years]  # makes the labels easier to read by far in my opinion\n",
        "\n",
        "seasons_as_numbers = np.array([int(season) for season in seasons])\n",
        "\n",
        "plt.xticks(rotation=45)\n",
        "plt.plot(seasons, mean_BLK)\n",
        "\n",
        "plt.xlabel(\"Season\")\n",
        "plt.ylabel(\"Mean BLK\")\n",
        "plt.title(\"Mean BLK per Season\")\n",
        "\n",
        "plt.xticks(rotation=0)\n",
        "plt.grid(True)\n",
        "plt.grid(True, linestyle='--', linewidth=0.5)\n",
        "\n",
        "# Perform quadratic regression to find the best fit line\n",
        "m = np.polyfit(seasons_as_numbers, mean_BLK, 2)\n",
        "\n",
        "# Calculate the best fit line\n",
        "best_fit_line = np.polyval(m, seasons_as_numbers)\n",
        "\n",
        "# Create the blue line plot with markers\n",
        "plt.plot(seasons, mean_BLK_per_year.to_numpy(), color='blue', marker='o', markersize=8)\n",
        "\n",
        "# Plot the best fit line in red\n",
        "plt.plot(seasons, best_fit_line, color='red', linestyle='-')  # Solid red line\n",
        "\n",
        "plt.show()"
      ],
      "metadata": {
        "id": "b8-qAg40lE4t"
      },
      "execution_count": null,
      "outputs": []
    },
    {
      "cell_type": "markdown",
      "metadata": {
        "id": "fQy-ai5oD0jS"
      },
      "source": [
        "#Machine Learning"
      ]
    },
    {
      "cell_type": "markdown",
      "metadata": {
        "id": "D-2yYfboi0XR"
      },
      "source": [
        "This first set uses a k-nearest-neighbors regression to predict fantasy points in the following year. This uses a subset of the nbaPStats data set which only includes players that played again in the following season."
      ]
    },
    {
      "cell_type": "code",
      "execution_count": null,
      "metadata": {
        "id": "WV2ukTnGjEy_"
      },
      "outputs": [],
      "source": [
        "from sklearn.feature_extraction import DictVectorizer\n",
        "from sklearn.preprocessing import StandardScaler\n",
        "from sklearn.neighbors import KNeighborsRegressor\n",
        "from sklearn.model_selection import cross_val_score\n",
        "\n",
        "stats_if_next = nbaPStats[nbaPStats[\"next_FP\"] != -1]\n",
        "\n",
        "# get the features (in dict format) and the labels\n",
        "# (do not split into training and validation sets)\n",
        "features = [\"Pos\", \"Age\", \"Tm\", \"G\", \"GS\",\n",
        "            \"MP\", \"FG\", \"FGA\", \"FG%\", \"3P\",\n",
        "            \"3PA\", \"3P%\", \"2P\", \"2PA\", \"2P%\",\n",
        "            \"FT\", \"FTA\", \"FT%\", \"ORB\", \"DRB\",\n",
        "            \"TRB\", \"AST\", \"STL\", \"BLK\", \"TOV\",\n",
        "            \"PF\", \"PTS\", \"Season\"]\n",
        "\n",
        "X_dict = stats_if_next[features].to_dict(orient=\"records\")\n",
        "y = stats_if_next[\"next_FP\"]\n",
        "\n",
        "# specify the pipeline\n",
        "vec = DictVectorizer(sparse=False)\n",
        "scaler = StandardScaler()\n",
        "model = KNeighborsRegressor(n_neighbors=10)\n",
        "pipeline = Pipeline([(\"vectorizer\", vec), (\"scaler\", scaler), (\"fit\", model)])\n",
        "\n",
        "vec = DictVectorizer(sparse=False)\n",
        "scaler = StandardScaler()\n",
        "\n",
        "# calculates estimate of test error based on 10-fold cross validation\n",
        "def get_cv_error(k):\n",
        "    model = KNeighborsRegressor(n_neighbors=k)\n",
        "    pipeline = Pipeline([(\"vectorizer\", vec), (\"scaler\", scaler), (\"fit\", model)])\n",
        "    mse = np.mean(-cross_val_score(\n",
        "        pipeline, X_dict, y,\n",
        "        cv=10, scoring=\"neg_mean_squared_error\"\n",
        "    ))\n",
        "    return mse\n",
        "\n",
        "ks = pd.Series(range(1, 51))\n",
        "ks.index = range(1, 51)\n",
        "test_errs = ks.apply(get_cv_error)\n",
        "\n",
        "test_errs.plot.line()\n",
        "test_errs.sort_values()"
      ]
    },
    {
      "cell_type": "code",
      "execution_count": null,
      "metadata": {
        "id": "0z1mMGpqjFug"
      },
      "outputs": [],
      "source": [
        "vec = DictVectorizer(sparse=False)\n",
        "vec.fit(X_dict)\n",
        "X_train = vec.transform(X_dict)\n",
        "\n",
        "scaler = StandardScaler()\n",
        "scaler.fit(X_train)\n",
        "X_train_sc = scaler.transform(X_train)\n",
        "\n",
        "# Fit a 20-nearest neighbors model.\n",
        "model = KNeighborsRegressor(n_neighbors=20)\n",
        "model.fit(X_train_sc, y)\n",
        "\n",
        "# Calculate the model predictions on the training data.\n",
        "y_train_pred = model.predict(X_train_sc)\n",
        "\n",
        "stats_if_next[\"next_pred\"] = y_train_pred\n",
        "\n",
        "stats_if_next.plot.scatter(\"next_FP\", \"next_pred\")\n",
        "stats_if_next[stats_if_next[\"Player\"] == \"J.R. Smith\"]"
      ]
    },
    {
      "cell_type": "markdown",
      "metadata": {
        "id": "2Z3kIJ9O-Brv"
      },
      "source": [
        "#Summary Statistics and Analysis"
      ]
    },
    {
      "cell_type": "markdown",
      "metadata": {
        "id": "MfdzYTsV-cHd"
      },
      "source": [
        "yay!"
      ]
    },
    {
      "cell_type": "code",
      "source": [
        "%%shell\n",
        "jupyter nbconvert --to html /content/reidm340.github.io/\"Millers'_DS_Project.ipynb\""
      ],
      "metadata": {
        "id": "68zWl3A7gUWN",
        "outputId": "3ccc98f5-c32b-49a2-a7b1-d5b31b270e04",
        "colab": {
          "base_uri": "https://localhost:8080/"
        }
      },
      "execution_count": null,
      "outputs": [
        {
          "output_type": "stream",
          "name": "stdout",
          "text": [
            "[NbConvertApp] Converting notebook /content/reidm340.github.io/Millers'_DS_Project.ipynb to html\n",
            "[NbConvertApp] Writing 649240 bytes to /content/reidm340.github.io/Millers'_DS_Project.html\n"
          ]
        },
        {
          "output_type": "execute_result",
          "data": {
            "text/plain": []
          },
          "metadata": {},
          "execution_count": 17
        }
      ]
    }
  ],
  "metadata": {
    "colab": {
      "collapsed_sections": [
        "oPkMX3oRjyuN",
        "BxD-gwd8VOnl",
        "Ywxm9cwEVTcp",
        "Eqm-51J9OCt3"
      ],
      "provenance": []
    },
    "kernelspec": {
      "display_name": "Python 3",
      "name": "python3"
    },
    "language_info": {
      "name": "python"
    }
  },
  "nbformat": 4,
  "nbformat_minor": 0
}