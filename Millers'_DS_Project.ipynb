{
  "nbformat": 4,
  "nbformat_minor": 0,
  "metadata": {
    "colab": {
      "provenance": []
    },
    "kernelspec": {
      "name": "python3",
      "display_name": "Python 3"
    },
    "language_info": {
      "name": "python"
    }
  },
  "cells": [
    {
      "cell_type": "markdown",
      "source": [
        "Reid Miller, Henry Miller:\n",
        "\n",
        "[Data Science Project](https://github.com/reidm340/reidm340.github.io)"
      ],
      "metadata": {
        "id": "MBeqKr76VRWx"
      }
    },
    {
      "cell_type": "markdown",
      "source": [
        "Writeup:\n",
        "\n",
        "For our project, our group (Henry Miller and Reid Miller) will be attempting to predict the best choices for fantasy basketball leagues. The main dataset we will be using is “NBA_Player_Stats_2.csv,” which we extracted from the website Kaggle. It contains data on every NBA player from the 1996-97 season through the 2021-22 season, along with the following information: Player (player's name), Pos (position), Age (player's age), G (games played), GS (games started), MP (minutes played), FG (field goals made), FGA (field goals attempted), FG% (field goal percentage), 3P (3-pointers made), 3PA (3-pointers attempted), 3P% (3-point percentage), 2P (2-pointers made), 2PA (2-pointers attempted), 2P% (2-point percentage), eFG% (effective field goal percentage), FT (free throws made), FTA (free throws attempted), FT% (free throw percentage), ORB (offensive rebounds), DRB (defensive rebounds), TRB (total rebounds), AST (assists), STL (steals), BLK (blocks), TOV (turnovers), PF (personal fouls), PTS (points), Season (season these stats are for), and MVP (boolean value which is 1 when the player wins MVP). All stats are measured on a per-game average.\n",
        "\n",
        "This dataset will be extremely useful because it contains all the stats that are used in fantasy basketball scoring for such a large sample of players and seasons. While there are a variety of scoring systems used in different fantasy basketball leagues (Rotisserie, Season Points, Head-to-Head: Points, Head-to-Head: Each Category), they are all based on the information above in some form. This means that we will be able to accurately recreate any individual’s fantasy output from any of these seasons, and that we will able to analyze the stats that directly affect fantasy success."
      ],
      "metadata": {
        "id": "HUXlUbVvTZI-"
      }
    },
    {
      "cell_type": "markdown",
      "source": [
        "Collaboration Plan:\n",
        "\n",
        "We have met to organize our collaboration plan, and we have decided that we will meet weekly on Sundays at 2:00 PM. During these meetings, we will touch base about our progress over the previous week and plan out goals for the coming week. We plan to use Google Colab to work on this project. We understand that two people working on the same Colab project at the same time can cause information to be overwritten, so we have decided to add any new work on a personal copy of our project before copying and pasting it over to the main one. We also plan to inform the other group-member whenever we plan to update the main project file. This ensures that we do not encounter problems with overwriting while working on this project, but are still able to make progress without any impediment.\n"
      ],
      "metadata": {
        "id": "92WEwVY8Thf-"
      }
    },
    {
      "cell_type": "code",
      "source": [
        "%%shell\n",
        "jupyter nbconvert --to html /content/reidm340.github.io/\"Millers'_DS_Project.ipynb\""
      ],
      "metadata": {
        "colab": {
          "base_uri": "https://localhost:8080/"
        },
        "id": "3ZEVtIG9dzTV",
        "outputId": "f3e605d3-34ca-46eb-9800-7d41afa0b851"
      },
      "execution_count": 31,
      "outputs": [
        {
          "output_type": "stream",
          "name": "stdout",
          "text": [
            "[NbConvertApp] Converting notebook /content/reidm340.github.io/Millers'_DS_Project.ipynb to html\n",
            "[NbConvertApp] Writing 638442 bytes to /content/reidm340.github.io/Millers'_DS_Project.html\n"
          ]
        },
        {
          "output_type": "execute_result",
          "data": {
            "text/plain": []
          },
          "metadata": {},
          "execution_count": 31
        }
      ]
    },
    {
      "cell_type": "markdown",
      "source": [
        "Load\n",
        "\n",
        "For this project, I unitlized Python 3, pandas, maplotlib, and more. Our first code cell will be importing the necessary libraries."
      ],
      "metadata": {
        "id": "O4r-HYMiviZy"
      }
    },
    {
      "cell_type": "code",
      "execution_count": 29,
      "metadata": {
        "colab": {
          "base_uri": "https://localhost:8080/"
        },
        "id": "mow2Y2wvvHVe",
        "outputId": "924b9418-9658-4c44-90a4-0a8851d45fc9"
      },
      "outputs": [
        {
          "output_type": "stream",
          "name": "stdout",
          "text": [
            "fatal: destination path 'reidm340.github.io' already exists and is not an empty directory.\n",
            "/content/reidm340.github.io/raw_data\n"
          ]
        }
      ],
      "source": [
        "\n",
        "!git clone https://github.com/reidm340/reidm340.github.io\n",
        "%cd /content/reidm340.github.io/raw_data\n",
        "\n",
        "import pandas as pd\n",
        "import matplotlib\n",
        "import matplotlib.pyplot as plt\n",
        "import re\n",
        "import numpy\n",
        "from itertools import cycle"
      ]
    },
    {
      "cell_type": "markdown",
      "source": [
        "Extraction\n",
        "\n",
        "This dataset was extracted from [Kaggle](https://www.kaggle.com/datasets/raunakpandey030/nba-player-stats/data). It contains all of the nba individual player stats from 1997-98 season through 2021-22 season."
      ],
      "metadata": {
        "id": "ciM2_ZF5vhhh"
      }
    },
    {
      "cell_type": "markdown",
      "source": [
        "To load this data, I utilized pandas' read_csv(). The head of the table (without any transformation or cleaning) is displayed below."
      ],
      "metadata": {
        "id": "Z7CSuDQ1wOkV"
      }
    },
    {
      "cell_type": "code",
      "source": [
        "nbaPStats = pd.read_csv('NBA_Player_Stats_2.csv')"
      ],
      "metadata": {
        "id": "PLAvduT6wUX9"
      },
      "execution_count": 17,
      "outputs": []
    },
    {
      "cell_type": "code",
      "source": [
        "nbaPStats.head()"
      ],
      "metadata": {
        "id": "3M41k5Ngw4cg",
        "colab": {
          "base_uri": "https://localhost:8080/",
          "height": 236
        },
        "outputId": "77d6a647-26b1-4a55-ca43-88658c247152"
      },
      "execution_count": 18,
      "outputs": [
        {
          "output_type": "execute_result",
          "data": {
            "text/plain": [
              "   Rk               Player Pos  Age   Tm   G  GS    MP   FG   FGA  ...  DRB  \\\n",
              "0   1   Mahmoud Abdul-Rauf  PG   28  SAC  31   0  17.1  3.3   8.8  ...  1.0   \n",
              "1   2    Tariq Abdul-Wahad  SG   23  SAC  59  16  16.3  2.4   6.1  ...  1.2   \n",
              "2   3  Shareef Abdur-Rahim  SF   21  VAN  82  82  36.0  8.0  16.4  ...  4.3   \n",
              "3   4       Cory Alexander  PG   24  TOT  60  22  21.6  2.9   6.7  ...  2.2   \n",
              "4   4       Cory Alexander  PG   24  SAS  37   3  13.5  1.6   3.9  ...  1.1   \n",
              "\n",
              "   TRB  AST  STL  BLK  TOV   PF   PTS   Season    MVP  \n",
              "0  1.2  1.9  0.5  0.0  0.6  1.0   7.3  1997-98  False  \n",
              "1  2.0  0.9  0.6  0.2  1.1  1.4   6.4  1997-98  False  \n",
              "2  7.1  2.6  1.1  0.9  3.1  2.5  22.3  1997-98  False  \n",
              "3  2.4  3.5  1.2  0.2  1.9  1.6   8.1  1997-98  False  \n",
              "4  1.3  1.9  0.7  0.1  1.3  1.4   4.5  1997-98  False  \n",
              "\n",
              "[5 rows x 32 columns]"
            ],
            "text/html": [
              "\n",
              "  <div id=\"df-e2eebd65-2cff-41f9-ab60-a17f90b11574\" class=\"colab-df-container\">\n",
              "    <div>\n",
              "<style scoped>\n",
              "    .dataframe tbody tr th:only-of-type {\n",
              "        vertical-align: middle;\n",
              "    }\n",
              "\n",
              "    .dataframe tbody tr th {\n",
              "        vertical-align: top;\n",
              "    }\n",
              "\n",
              "    .dataframe thead th {\n",
              "        text-align: right;\n",
              "    }\n",
              "</style>\n",
              "<table border=\"1\" class=\"dataframe\">\n",
              "  <thead>\n",
              "    <tr style=\"text-align: right;\">\n",
              "      <th></th>\n",
              "      <th>Rk</th>\n",
              "      <th>Player</th>\n",
              "      <th>Pos</th>\n",
              "      <th>Age</th>\n",
              "      <th>Tm</th>\n",
              "      <th>G</th>\n",
              "      <th>GS</th>\n",
              "      <th>MP</th>\n",
              "      <th>FG</th>\n",
              "      <th>FGA</th>\n",
              "      <th>...</th>\n",
              "      <th>DRB</th>\n",
              "      <th>TRB</th>\n",
              "      <th>AST</th>\n",
              "      <th>STL</th>\n",
              "      <th>BLK</th>\n",
              "      <th>TOV</th>\n",
              "      <th>PF</th>\n",
              "      <th>PTS</th>\n",
              "      <th>Season</th>\n",
              "      <th>MVP</th>\n",
              "    </tr>\n",
              "  </thead>\n",
              "  <tbody>\n",
              "    <tr>\n",
              "      <th>0</th>\n",
              "      <td>1</td>\n",
              "      <td>Mahmoud Abdul-Rauf</td>\n",
              "      <td>PG</td>\n",
              "      <td>28</td>\n",
              "      <td>SAC</td>\n",
              "      <td>31</td>\n",
              "      <td>0</td>\n",
              "      <td>17.1</td>\n",
              "      <td>3.3</td>\n",
              "      <td>8.8</td>\n",
              "      <td>...</td>\n",
              "      <td>1.0</td>\n",
              "      <td>1.2</td>\n",
              "      <td>1.9</td>\n",
              "      <td>0.5</td>\n",
              "      <td>0.0</td>\n",
              "      <td>0.6</td>\n",
              "      <td>1.0</td>\n",
              "      <td>7.3</td>\n",
              "      <td>1997-98</td>\n",
              "      <td>False</td>\n",
              "    </tr>\n",
              "    <tr>\n",
              "      <th>1</th>\n",
              "      <td>2</td>\n",
              "      <td>Tariq Abdul-Wahad</td>\n",
              "      <td>SG</td>\n",
              "      <td>23</td>\n",
              "      <td>SAC</td>\n",
              "      <td>59</td>\n",
              "      <td>16</td>\n",
              "      <td>16.3</td>\n",
              "      <td>2.4</td>\n",
              "      <td>6.1</td>\n",
              "      <td>...</td>\n",
              "      <td>1.2</td>\n",
              "      <td>2.0</td>\n",
              "      <td>0.9</td>\n",
              "      <td>0.6</td>\n",
              "      <td>0.2</td>\n",
              "      <td>1.1</td>\n",
              "      <td>1.4</td>\n",
              "      <td>6.4</td>\n",
              "      <td>1997-98</td>\n",
              "      <td>False</td>\n",
              "    </tr>\n",
              "    <tr>\n",
              "      <th>2</th>\n",
              "      <td>3</td>\n",
              "      <td>Shareef Abdur-Rahim</td>\n",
              "      <td>SF</td>\n",
              "      <td>21</td>\n",
              "      <td>VAN</td>\n",
              "      <td>82</td>\n",
              "      <td>82</td>\n",
              "      <td>36.0</td>\n",
              "      <td>8.0</td>\n",
              "      <td>16.4</td>\n",
              "      <td>...</td>\n",
              "      <td>4.3</td>\n",
              "      <td>7.1</td>\n",
              "      <td>2.6</td>\n",
              "      <td>1.1</td>\n",
              "      <td>0.9</td>\n",
              "      <td>3.1</td>\n",
              "      <td>2.5</td>\n",
              "      <td>22.3</td>\n",
              "      <td>1997-98</td>\n",
              "      <td>False</td>\n",
              "    </tr>\n",
              "    <tr>\n",
              "      <th>3</th>\n",
              "      <td>4</td>\n",
              "      <td>Cory Alexander</td>\n",
              "      <td>PG</td>\n",
              "      <td>24</td>\n",
              "      <td>TOT</td>\n",
              "      <td>60</td>\n",
              "      <td>22</td>\n",
              "      <td>21.6</td>\n",
              "      <td>2.9</td>\n",
              "      <td>6.7</td>\n",
              "      <td>...</td>\n",
              "      <td>2.2</td>\n",
              "      <td>2.4</td>\n",
              "      <td>3.5</td>\n",
              "      <td>1.2</td>\n",
              "      <td>0.2</td>\n",
              "      <td>1.9</td>\n",
              "      <td>1.6</td>\n",
              "      <td>8.1</td>\n",
              "      <td>1997-98</td>\n",
              "      <td>False</td>\n",
              "    </tr>\n",
              "    <tr>\n",
              "      <th>4</th>\n",
              "      <td>4</td>\n",
              "      <td>Cory Alexander</td>\n",
              "      <td>PG</td>\n",
              "      <td>24</td>\n",
              "      <td>SAS</td>\n",
              "      <td>37</td>\n",
              "      <td>3</td>\n",
              "      <td>13.5</td>\n",
              "      <td>1.6</td>\n",
              "      <td>3.9</td>\n",
              "      <td>...</td>\n",
              "      <td>1.1</td>\n",
              "      <td>1.3</td>\n",
              "      <td>1.9</td>\n",
              "      <td>0.7</td>\n",
              "      <td>0.1</td>\n",
              "      <td>1.3</td>\n",
              "      <td>1.4</td>\n",
              "      <td>4.5</td>\n",
              "      <td>1997-98</td>\n",
              "      <td>False</td>\n",
              "    </tr>\n",
              "  </tbody>\n",
              "</table>\n",
              "<p>5 rows × 32 columns</p>\n",
              "</div>\n",
              "    <div class=\"colab-df-buttons\">\n",
              "\n",
              "  <div class=\"colab-df-container\">\n",
              "    <button class=\"colab-df-convert\" onclick=\"convertToInteractive('df-e2eebd65-2cff-41f9-ab60-a17f90b11574')\"\n",
              "            title=\"Convert this dataframe to an interactive table.\"\n",
              "            style=\"display:none;\">\n",
              "\n",
              "  <svg xmlns=\"http://www.w3.org/2000/svg\" height=\"24px\" viewBox=\"0 -960 960 960\">\n",
              "    <path d=\"M120-120v-720h720v720H120Zm60-500h600v-160H180v160Zm220 220h160v-160H400v160Zm0 220h160v-160H400v160ZM180-400h160v-160H180v160Zm440 0h160v-160H620v160ZM180-180h160v-160H180v160Zm440 0h160v-160H620v160Z\"/>\n",
              "  </svg>\n",
              "    </button>\n",
              "\n",
              "  <style>\n",
              "    .colab-df-container {\n",
              "      display:flex;\n",
              "      gap: 12px;\n",
              "    }\n",
              "\n",
              "    .colab-df-convert {\n",
              "      background-color: #E8F0FE;\n",
              "      border: none;\n",
              "      border-radius: 50%;\n",
              "      cursor: pointer;\n",
              "      display: none;\n",
              "      fill: #1967D2;\n",
              "      height: 32px;\n",
              "      padding: 0 0 0 0;\n",
              "      width: 32px;\n",
              "    }\n",
              "\n",
              "    .colab-df-convert:hover {\n",
              "      background-color: #E2EBFA;\n",
              "      box-shadow: 0px 1px 2px rgba(60, 64, 67, 0.3), 0px 1px 3px 1px rgba(60, 64, 67, 0.15);\n",
              "      fill: #174EA6;\n",
              "    }\n",
              "\n",
              "    .colab-df-buttons div {\n",
              "      margin-bottom: 4px;\n",
              "    }\n",
              "\n",
              "    [theme=dark] .colab-df-convert {\n",
              "      background-color: #3B4455;\n",
              "      fill: #D2E3FC;\n",
              "    }\n",
              "\n",
              "    [theme=dark] .colab-df-convert:hover {\n",
              "      background-color: #434B5C;\n",
              "      box-shadow: 0px 1px 3px 1px rgba(0, 0, 0, 0.15);\n",
              "      filter: drop-shadow(0px 1px 2px rgba(0, 0, 0, 0.3));\n",
              "      fill: #FFFFFF;\n",
              "    }\n",
              "  </style>\n",
              "\n",
              "    <script>\n",
              "      const buttonEl =\n",
              "        document.querySelector('#df-e2eebd65-2cff-41f9-ab60-a17f90b11574 button.colab-df-convert');\n",
              "      buttonEl.style.display =\n",
              "        google.colab.kernel.accessAllowed ? 'block' : 'none';\n",
              "\n",
              "      async function convertToInteractive(key) {\n",
              "        const element = document.querySelector('#df-e2eebd65-2cff-41f9-ab60-a17f90b11574');\n",
              "        const dataTable =\n",
              "          await google.colab.kernel.invokeFunction('convertToInteractive',\n",
              "                                                    [key], {});\n",
              "        if (!dataTable) return;\n",
              "\n",
              "        const docLinkHtml = 'Like what you see? Visit the ' +\n",
              "          '<a target=\"_blank\" href=https://colab.research.google.com/notebooks/data_table.ipynb>data table notebook</a>'\n",
              "          + ' to learn more about interactive tables.';\n",
              "        element.innerHTML = '';\n",
              "        dataTable['output_type'] = 'display_data';\n",
              "        await google.colab.output.renderOutput(dataTable, element);\n",
              "        const docLink = document.createElement('div');\n",
              "        docLink.innerHTML = docLinkHtml;\n",
              "        element.appendChild(docLink);\n",
              "      }\n",
              "    </script>\n",
              "  </div>\n",
              "\n",
              "\n",
              "<div id=\"df-73c06b8a-344e-4677-bee3-56ec50f5e00d\">\n",
              "  <button class=\"colab-df-quickchart\" onclick=\"quickchart('df-73c06b8a-344e-4677-bee3-56ec50f5e00d')\"\n",
              "            title=\"Suggest charts\"\n",
              "            style=\"display:none;\">\n",
              "\n",
              "<svg xmlns=\"http://www.w3.org/2000/svg\" height=\"24px\"viewBox=\"0 0 24 24\"\n",
              "     width=\"24px\">\n",
              "    <g>\n",
              "        <path d=\"M19 3H5c-1.1 0-2 .9-2 2v14c0 1.1.9 2 2 2h14c1.1 0 2-.9 2-2V5c0-1.1-.9-2-2-2zM9 17H7v-7h2v7zm4 0h-2V7h2v10zm4 0h-2v-4h2v4z\"/>\n",
              "    </g>\n",
              "</svg>\n",
              "  </button>\n",
              "\n",
              "<style>\n",
              "  .colab-df-quickchart {\n",
              "      --bg-color: #E8F0FE;\n",
              "      --fill-color: #1967D2;\n",
              "      --hover-bg-color: #E2EBFA;\n",
              "      --hover-fill-color: #174EA6;\n",
              "      --disabled-fill-color: #AAA;\n",
              "      --disabled-bg-color: #DDD;\n",
              "  }\n",
              "\n",
              "  [theme=dark] .colab-df-quickchart {\n",
              "      --bg-color: #3B4455;\n",
              "      --fill-color: #D2E3FC;\n",
              "      --hover-bg-color: #434B5C;\n",
              "      --hover-fill-color: #FFFFFF;\n",
              "      --disabled-bg-color: #3B4455;\n",
              "      --disabled-fill-color: #666;\n",
              "  }\n",
              "\n",
              "  .colab-df-quickchart {\n",
              "    background-color: var(--bg-color);\n",
              "    border: none;\n",
              "    border-radius: 50%;\n",
              "    cursor: pointer;\n",
              "    display: none;\n",
              "    fill: var(--fill-color);\n",
              "    height: 32px;\n",
              "    padding: 0;\n",
              "    width: 32px;\n",
              "  }\n",
              "\n",
              "  .colab-df-quickchart:hover {\n",
              "    background-color: var(--hover-bg-color);\n",
              "    box-shadow: 0 1px 2px rgba(60, 64, 67, 0.3), 0 1px 3px 1px rgba(60, 64, 67, 0.15);\n",
              "    fill: var(--button-hover-fill-color);\n",
              "  }\n",
              "\n",
              "  .colab-df-quickchart-complete:disabled,\n",
              "  .colab-df-quickchart-complete:disabled:hover {\n",
              "    background-color: var(--disabled-bg-color);\n",
              "    fill: var(--disabled-fill-color);\n",
              "    box-shadow: none;\n",
              "  }\n",
              "\n",
              "  .colab-df-spinner {\n",
              "    border: 2px solid var(--fill-color);\n",
              "    border-color: transparent;\n",
              "    border-bottom-color: var(--fill-color);\n",
              "    animation:\n",
              "      spin 1s steps(1) infinite;\n",
              "  }\n",
              "\n",
              "  @keyframes spin {\n",
              "    0% {\n",
              "      border-color: transparent;\n",
              "      border-bottom-color: var(--fill-color);\n",
              "      border-left-color: var(--fill-color);\n",
              "    }\n",
              "    20% {\n",
              "      border-color: transparent;\n",
              "      border-left-color: var(--fill-color);\n",
              "      border-top-color: var(--fill-color);\n",
              "    }\n",
              "    30% {\n",
              "      border-color: transparent;\n",
              "      border-left-color: var(--fill-color);\n",
              "      border-top-color: var(--fill-color);\n",
              "      border-right-color: var(--fill-color);\n",
              "    }\n",
              "    40% {\n",
              "      border-color: transparent;\n",
              "      border-right-color: var(--fill-color);\n",
              "      border-top-color: var(--fill-color);\n",
              "    }\n",
              "    60% {\n",
              "      border-color: transparent;\n",
              "      border-right-color: var(--fill-color);\n",
              "    }\n",
              "    80% {\n",
              "      border-color: transparent;\n",
              "      border-right-color: var(--fill-color);\n",
              "      border-bottom-color: var(--fill-color);\n",
              "    }\n",
              "    90% {\n",
              "      border-color: transparent;\n",
              "      border-bottom-color: var(--fill-color);\n",
              "    }\n",
              "  }\n",
              "</style>\n",
              "\n",
              "  <script>\n",
              "    async function quickchart(key) {\n",
              "      const quickchartButtonEl =\n",
              "        document.querySelector('#' + key + ' button');\n",
              "      quickchartButtonEl.disabled = true;  // To prevent multiple clicks.\n",
              "      quickchartButtonEl.classList.add('colab-df-spinner');\n",
              "      try {\n",
              "        const charts = await google.colab.kernel.invokeFunction(\n",
              "            'suggestCharts', [key], {});\n",
              "      } catch (error) {\n",
              "        console.error('Error during call to suggestCharts:', error);\n",
              "      }\n",
              "      quickchartButtonEl.classList.remove('colab-df-spinner');\n",
              "      quickchartButtonEl.classList.add('colab-df-quickchart-complete');\n",
              "    }\n",
              "    (() => {\n",
              "      let quickchartButtonEl =\n",
              "        document.querySelector('#df-73c06b8a-344e-4677-bee3-56ec50f5e00d button');\n",
              "      quickchartButtonEl.style.display =\n",
              "        google.colab.kernel.accessAllowed ? 'block' : 'none';\n",
              "    })();\n",
              "  </script>\n",
              "</div>\n",
              "\n",
              "    </div>\n",
              "  </div>\n"
            ],
            "application/vnd.google.colaboratory.intrinsic+json": {
              "type": "dataframe",
              "variable_name": "nbaPStats"
            }
          },
          "metadata": {},
          "execution_count": 18
        }
      ]
    },
    {
      "cell_type": "markdown",
      "source": [
        "As you see here, I used this data set because I had already observed that the data was tidy and well orginized"
      ],
      "metadata": {
        "id": "rjsRmvlmAmww"
      }
    },
    {
      "cell_type": "markdown",
      "source": [
        "With this data we wondering what the biggest factors are when it comes to fantasy basketball. The question we are asking is what stats from the previous season will result in a undervalued fantasy basketball draft pick in the following season?"
      ],
      "metadata": {
        "id": "T50sg1HS1-nG"
      }
    },
    {
      "cell_type": "markdown",
      "source": [
        "Here's one Interesting Stat:"
      ],
      "metadata": {
        "id": "Dhnqt06W2spJ"
      }
    },
    {
      "cell_type": "code",
      "source": [
        "Lebron_Teams = nbaPStats[nbaPStats['Player'] == 'LeBron James']['Tm'].value_counts()\n",
        "Lebron_Teams"
      ],
      "metadata": {
        "colab": {
          "base_uri": "https://localhost:8080/"
        },
        "id": "0HPRRUyI3vua",
        "outputId": "23f8169c-876e-4529-9486-021dac4f4f63"
      },
      "execution_count": 19,
      "outputs": [
        {
          "output_type": "execute_result",
          "data": {
            "text/plain": [
              "CLE    11\n",
              "MIA     4\n",
              "LAL     4\n",
              "Name: Tm, dtype: int64"
            ]
          },
          "metadata": {},
          "execution_count": 19
        }
      ]
    },
    {
      "cell_type": "markdown",
      "source": [
        "LeBron James has played at least one games for the Cavs in 11 different seasons!!!"
      ],
      "metadata": {
        "id": "A1wiAJlC6ZtQ"
      }
    },
    {
      "cell_type": "markdown",
      "source": [
        "Here's a graph that represent how many seasons LeBron has played at least one game for a team, and how many times hes done it for that team:"
      ],
      "metadata": {
        "id": "0fDhbFnE6rpm"
      }
    },
    {
      "cell_type": "code",
      "source": [
        "labels = Lebron_Teams.index.to_list()\n",
        "sizes = Lebron_Teams.to_list()\n",
        "fig1, ax1 = plt.subplots()\n",
        "ax1.pie(sizes, labels=['Cleavland','Miami','Los Angeles'], autopct='%1.1f%%', startangle=90)\n",
        "ax1.axis('equal')  # Equal aspect ratio ensures a circular pie chart\n",
        "plt.show()"
      ],
      "metadata": {
        "colab": {
          "base_uri": "https://localhost:8080/",
          "height": 406
        },
        "id": "q4JORHNU-Zz-",
        "outputId": "ff068204-c290-415a-a0a0-45eaabe304ed"
      },
      "execution_count": 20,
      "outputs": [
        {
          "output_type": "display_data",
          "data": {
            "text/plain": [
              "<Figure size 640x480 with 1 Axes>"
            ],
            "image/png": "[encoded data removed]"
          },
          "metadata": {}
        }
      ]
    },
    {
      "cell_type": "markdown",
      "source": [
        "Since the data is already tidy there are a few other things that the professor requested I do and check about the data set."
      ],
      "metadata": {
        "id": "Eqm-51J9OCt3"
      }
    },
    {
      "cell_type": "markdown",
      "source": [
        "Making sure the dtype of each column is what I want"
      ],
      "metadata": {
        "id": "6UIVDV7VOVc4"
      }
    },
    {
      "cell_type": "code",
      "source": [
        "nbaPStats.dtypes"
      ],
      "metadata": {
        "colab": {
          "base_uri": "https://localhost:8080/"
        },
        "id": "8gTW5FzcOchs",
        "outputId": "a9745033-0688-4de1-9a6b-4fb6738cc2a2"
      },
      "execution_count": 21,
      "outputs": [
        {
          "output_type": "execute_result",
          "data": {
            "text/plain": [
              "Rk          int64\n",
              "Player     object\n",
              "Pos        object\n",
              "Age         int64\n",
              "Tm         object\n",
              "G           int64\n",
              "GS          int64\n",
              "MP        float64\n",
              "FG        float64\n",
              "FGA       float64\n",
              "FG%       float64\n",
              "3P        float64\n",
              "3PA       float64\n",
              "3P%       float64\n",
              "2P        float64\n",
              "2PA       float64\n",
              "2P%       float64\n",
              "eFG%      float64\n",
              "FT        float64\n",
              "FTA       float64\n",
              "FT%       float64\n",
              "ORB       float64\n",
              "DRB       float64\n",
              "TRB       float64\n",
              "AST       float64\n",
              "STL       float64\n",
              "BLK       float64\n",
              "TOV       float64\n",
              "PF        float64\n",
              "PTS       float64\n",
              "Season     object\n",
              "MVP          bool\n",
              "dtype: object"
            ]
          },
          "metadata": {},
          "execution_count": 21
        }
      ]
    },
    {
      "cell_type": "markdown",
      "source": [
        "These are exactly what I want. In the future I might make what in the NBA is called advanced stats which use ratios of some of the float objects that may be more indicitive of player sucsess. An example of this would be true shooting precentage."
      ],
      "metadata": {
        "id": "57Mld2RkQGXX"
      }
    },
    {
      "cell_type": "markdown",
      "source": [
        "Now let's check if there are any nan values"
      ],
      "metadata": {
        "id": "d_Uq2ldsTeKa"
      }
    },
    {
      "cell_type": "code",
      "source": [
        "nan_rows = nbaPStats.isna().any(axis=1)\n",
        "nan_rows.value_counts()"
      ],
      "metadata": {
        "colab": {
          "base_uri": "https://localhost:8080/"
        },
        "id": "8zLpgPzHRgIn",
        "outputId": "6dc93a4d-c40e-4cc5-c3bb-a3ab8f99deb4"
      },
      "execution_count": 22,
      "outputs": [
        {
          "output_type": "execute_result",
          "data": {
            "text/plain": [
              "False    11962\n",
              "True      2611\n",
              "dtype: int64"
            ]
          },
          "metadata": {},
          "execution_count": 22
        }
      ]
    },
    {
      "cell_type": "markdown",
      "source": [
        "Uh oh. Let's see if I can do anything about that. After some analaysis I found out that all the NaN values exist in the precentage columns when there were no attempts from the player. Therefiore since they did not take any 3 point shots for example, we can say that their 3 point presentage is 0%. Therefore I am going to relace all NaN values with 0"
      ],
      "metadata": {
        "id": "3VCbmpbUTd1X"
      }
    },
    {
      "cell_type": "code",
      "source": [
        "nbaPStats = nbaPStats.fillna(0)"
      ],
      "metadata": {
        "id": "PGSSnOK7Tmtd"
      },
      "execution_count": 23,
      "outputs": []
    },
    {
      "cell_type": "markdown",
      "source": [
        "Now lets check to see if that worked"
      ],
      "metadata": {
        "id": "Tzc6Z5JjZFV5"
      }
    },
    {
      "cell_type": "code",
      "source": [
        "nan_rows = nbaPStats.isna().any(axis=1)\n",
        "nan_rows.value_counts()"
      ],
      "metadata": {
        "colab": {
          "base_uri": "https://localhost:8080/"
        },
        "id": "SPWndI2kZIDz",
        "outputId": "86a1ea45-3cb7-449b-f150-0b122133969a"
      },
      "execution_count": 24,
      "outputs": [
        {
          "output_type": "execute_result",
          "data": {
            "text/plain": [
              "False    14573\n",
              "dtype: int64"
            ]
          },
          "metadata": {},
          "execution_count": 24
        }
      ]
    },
    {
      "cell_type": "markdown",
      "source": [
        "Now we have no NaN values!!!"
      ],
      "metadata": {
        "id": "wC3IBDYnZLyH"
      }
    },
    {
      "cell_type": "markdown",
      "source": [
        "Now to remove the irrelevant 'Rk' column."
      ],
      "metadata": {
        "id": "XKAiyi96aXCl"
      }
    },
    {
      "cell_type": "code",
      "source": [
        "nbaPStats.pop('Rk')\n",
        "nbaPStats.head()"
      ],
      "metadata": {
        "colab": {
          "base_uri": "https://localhost:8080/",
          "height": 236
        },
        "id": "qsh4JzEYabv2",
        "outputId": "fc9016a3-5e73-47c2-be72-eec71e0967dc"
      },
      "execution_count": 25,
      "outputs": [
        {
          "output_type": "execute_result",
          "data": {
            "text/plain": [
              "                Player Pos  Age   Tm   G  GS    MP   FG   FGA    FG%  ...  \\\n",
              "0   Mahmoud Abdul-Rauf  PG   28  SAC  31   0  17.1  3.3   8.8  0.377  ...   \n",
              "1    Tariq Abdul-Wahad  SG   23  SAC  59  16  16.3  2.4   6.1  0.403  ...   \n",
              "2  Shareef Abdur-Rahim  SF   21  VAN  82  82  36.0  8.0  16.4  0.485  ...   \n",
              "3       Cory Alexander  PG   24  TOT  60  22  21.6  2.9   6.7  0.428  ...   \n",
              "4       Cory Alexander  PG   24  SAS  37   3  13.5  1.6   3.9  0.414  ...   \n",
              "\n",
              "   DRB  TRB  AST  STL  BLK  TOV   PF   PTS   Season    MVP  \n",
              "0  1.0  1.2  1.9  0.5  0.0  0.6  1.0   7.3  1997-98  False  \n",
              "1  1.2  2.0  0.9  0.6  0.2  1.1  1.4   6.4  1997-98  False  \n",
              "2  4.3  7.1  2.6  1.1  0.9  3.1  2.5  22.3  1997-98  False  \n",
              "3  2.2  2.4  3.5  1.2  0.2  1.9  1.6   8.1  1997-98  False  \n",
              "4  1.1  1.3  1.9  0.7  0.1  1.3  1.4   4.5  1997-98  False  \n",
              "\n",
              "[5 rows x 31 columns]"
            ],
            "text/html": [
              "\n",
              "  <div id=\"df-72160626-a637-4900-8cba-a73c6948f731\" class=\"colab-df-container\">\n",
              "    <div>\n",
              "<style scoped>\n",
              "    .dataframe tbody tr th:only-of-type {\n",
              "        vertical-align: middle;\n",
              "    }\n",
              "\n",
              "    .dataframe tbody tr th {\n",
              "        vertical-align: top;\n",
              "    }\n",
              "\n",
              "    .dataframe thead th {\n",
              "        text-align: right;\n",
              "    }\n",
              "</style>\n",
              "<table border=\"1\" class=\"dataframe\">\n",
              "  <thead>\n",
              "    <tr style=\"text-align: right;\">\n",
              "      <th></th>\n",
              "      <th>Player</th>\n",
              "      <th>Pos</th>\n",
              "      <th>Age</th>\n",
              "      <th>Tm</th>\n",
              "      <th>G</th>\n",
              "      <th>GS</th>\n",
              "      <th>MP</th>\n",
              "      <th>FG</th>\n",
              "      <th>FGA</th>\n",
              "      <th>FG%</th>\n",
              "      <th>...</th>\n",
              "      <th>DRB</th>\n",
              "      <th>TRB</th>\n",
              "      <th>AST</th>\n",
              "      <th>STL</th>\n",
              "      <th>BLK</th>\n",
              "      <th>TOV</th>\n",
              "      <th>PF</th>\n",
              "      <th>PTS</th>\n",
              "      <th>Season</th>\n",
              "      <th>MVP</th>\n",
              "    </tr>\n",
              "  </thead>\n",
              "  <tbody>\n",
              "    <tr>\n",
              "      <th>0</th>\n",
              "      <td>Mahmoud Abdul-Rauf</td>\n",
              "      <td>PG</td>\n",
              "      <td>28</td>\n",
              "      <td>SAC</td>\n",
              "      <td>31</td>\n",
              "      <td>0</td>\n",
              "      <td>17.1</td>\n",
              "      <td>3.3</td>\n",
              "      <td>8.8</td>\n",
              "      <td>0.377</td>\n",
              "      <td>...</td>\n",
              "      <td>1.0</td>\n",
              "      <td>1.2</td>\n",
              "      <td>1.9</td>\n",
              "      <td>0.5</td>\n",
              "      <td>0.0</td>\n",
              "      <td>0.6</td>\n",
              "      <td>1.0</td>\n",
              "      <td>7.3</td>\n",
              "      <td>1997-98</td>\n",
              "      <td>False</td>\n",
              "    </tr>\n",
              "    <tr>\n",
              "      <th>1</th>\n",
              "      <td>Tariq Abdul-Wahad</td>\n",
              "      <td>SG</td>\n",
              "      <td>23</td>\n",
              "      <td>SAC</td>\n",
              "      <td>59</td>\n",
              "      <td>16</td>\n",
              "      <td>16.3</td>\n",
              "      <td>2.4</td>\n",
              "      <td>6.1</td>\n",
              "      <td>0.403</td>\n",
              "      <td>...</td>\n",
              "      <td>1.2</td>\n",
              "      <td>2.0</td>\n",
              "      <td>0.9</td>\n",
              "      <td>0.6</td>\n",
              "      <td>0.2</td>\n",
              "      <td>1.1</td>\n",
              "      <td>1.4</td>\n",
              "      <td>6.4</td>\n",
              "      <td>1997-98</td>\n",
              "      <td>False</td>\n",
              "    </tr>\n",
              "    <tr>\n",
              "      <th>2</th>\n",
              "      <td>Shareef Abdur-Rahim</td>\n",
              "      <td>SF</td>\n",
              "      <td>21</td>\n",
              "      <td>VAN</td>\n",
              "      <td>82</td>\n",
              "      <td>82</td>\n",
              "      <td>36.0</td>\n",
              "      <td>8.0</td>\n",
              "      <td>16.4</td>\n",
              "      <td>0.485</td>\n",
              "      <td>...</td>\n",
              "      <td>4.3</td>\n",
              "      <td>7.1</td>\n",
              "      <td>2.6</td>\n",
              "      <td>1.1</td>\n",
              "      <td>0.9</td>\n",
              "      <td>3.1</td>\n",
              "      <td>2.5</td>\n",
              "      <td>22.3</td>\n",
              "      <td>1997-98</td>\n",
              "      <td>False</td>\n",
              "    </tr>\n",
              "    <tr>\n",
              "      <th>3</th>\n",
              "      <td>Cory Alexander</td>\n",
              "      <td>PG</td>\n",
              "      <td>24</td>\n",
              "      <td>TOT</td>\n",
              "      <td>60</td>\n",
              "      <td>22</td>\n",
              "      <td>21.6</td>\n",
              "      <td>2.9</td>\n",
              "      <td>6.7</td>\n",
              "      <td>0.428</td>\n",
              "      <td>...</td>\n",
              "      <td>2.2</td>\n",
              "      <td>2.4</td>\n",
              "      <td>3.5</td>\n",
              "      <td>1.2</td>\n",
              "      <td>0.2</td>\n",
              "      <td>1.9</td>\n",
              "      <td>1.6</td>\n",
              "      <td>8.1</td>\n",
              "      <td>1997-98</td>\n",
              "      <td>False</td>\n",
              "    </tr>\n",
              "    <tr>\n",
              "      <th>4</th>\n",
              "      <td>Cory Alexander</td>\n",
              "      <td>PG</td>\n",
              "      <td>24</td>\n",
              "      <td>SAS</td>\n",
              "      <td>37</td>\n",
              "      <td>3</td>\n",
              "      <td>13.5</td>\n",
              "      <td>1.6</td>\n",
              "      <td>3.9</td>\n",
              "      <td>0.414</td>\n",
              "      <td>...</td>\n",
              "      <td>1.1</td>\n",
              "      <td>1.3</td>\n",
              "      <td>1.9</td>\n",
              "      <td>0.7</td>\n",
              "      <td>0.1</td>\n",
              "      <td>1.3</td>\n",
              "      <td>1.4</td>\n",
              "      <td>4.5</td>\n",
              "      <td>1997-98</td>\n",
              "      <td>False</td>\n",
              "    </tr>\n",
              "  </tbody>\n",
              "</table>\n",
              "<p>5 rows × 31 columns</p>\n",
              "</div>\n",
              "    <div class=\"colab-df-buttons\">\n",
              "\n",
              "  <div class=\"colab-df-container\">\n",
              "    <button class=\"colab-df-convert\" onclick=\"convertToInteractive('df-72160626-a637-4900-8cba-a73c6948f731')\"\n",
              "            title=\"Convert this dataframe to an interactive table.\"\n",
              "            style=\"display:none;\">\n",
              "\n",
              "  <svg xmlns=\"http://www.w3.org/2000/svg\" height=\"24px\" viewBox=\"0 -960 960 960\">\n",
              "    <path d=\"M120-120v-720h720v720H120Zm60-500h600v-160H180v160Zm220 220h160v-160H400v160Zm0 220h160v-160H400v160ZM180-400h160v-160H180v160Zm440 0h160v-160H620v160ZM180-180h160v-160H180v160Zm440 0h160v-160H620v160Z\"/>\n",
              "  </svg>\n",
              "    </button>\n",
              "\n",
              "  <style>\n",
              "    .colab-df-container {\n",
              "      display:flex;\n",
              "      gap: 12px;\n",
              "    }\n",
              "\n",
              "    .colab-df-convert {\n",
              "      background-color: #E8F0FE;\n",
              "      border: none;\n",
              "      border-radius: 50%;\n",
              "      cursor: pointer;\n",
              "      display: none;\n",
              "      fill: #1967D2;\n",
              "      height: 32px;\n",
              "      padding: 0 0 0 0;\n",
              "      width: 32px;\n",
              "    }\n",
              "\n",
              "    .colab-df-convert:hover {\n",
              "      background-color: #E2EBFA;\n",
              "      box-shadow: 0px 1px 2px rgba(60, 64, 67, 0.3), 0px 1px 3px 1px rgba(60, 64, 67, 0.15);\n",
              "      fill: #174EA6;\n",
              "    }\n",
              "\n",
              "    .colab-df-buttons div {\n",
              "      margin-bottom: 4px;\n",
              "    }\n",
              "\n",
              "    [theme=dark] .colab-df-convert {\n",
              "      background-color: #3B4455;\n",
              "      fill: #D2E3FC;\n",
              "    }\n",
              "\n",
              "    [theme=dark] .colab-df-convert:hover {\n",
              "      background-color: #434B5C;\n",
              "      box-shadow: 0px 1px 3px 1px rgba(0, 0, 0, 0.15);\n",
              "      filter: drop-shadow(0px 1px 2px rgba(0, 0, 0, 0.3));\n",
              "      fill: #FFFFFF;\n",
              "    }\n",
              "  </style>\n",
              "\n",
              "    <script>\n",
              "      const buttonEl =\n",
              "        document.querySelector('#df-72160626-a637-4900-8cba-a73c6948f731 button.colab-df-convert');\n",
              "      buttonEl.style.display =\n",
              "        google.colab.kernel.accessAllowed ? 'block' : 'none';\n",
              "\n",
              "      async function convertToInteractive(key) {\n",
              "        const element = document.querySelector('#df-72160626-a637-4900-8cba-a73c6948f731');\n",
              "        const dataTable =\n",
              "          await google.colab.kernel.invokeFunction('convertToInteractive',\n",
              "                                                    [key], {});\n",
              "        if (!dataTable) return;\n",
              "\n",
              "        const docLinkHtml = 'Like what you see? Visit the ' +\n",
              "          '<a target=\"_blank\" href=https://colab.research.google.com/notebooks/data_table.ipynb>data table notebook</a>'\n",
              "          + ' to learn more about interactive tables.';\n",
              "        element.innerHTML = '';\n",
              "        dataTable['output_type'] = 'display_data';\n",
              "        await google.colab.output.renderOutput(dataTable, element);\n",
              "        const docLink = document.createElement('div');\n",
              "        docLink.innerHTML = docLinkHtml;\n",
              "        element.appendChild(docLink);\n",
              "      }\n",
              "    </script>\n",
              "  </div>\n",
              "\n",
              "\n",
              "<div id=\"df-6ab0f394-a1e4-4abc-9600-f3b3a9d82d19\">\n",
              "  <button class=\"colab-df-quickchart\" onclick=\"quickchart('df-6ab0f394-a1e4-4abc-9600-f3b3a9d82d19')\"\n",
              "            title=\"Suggest charts\"\n",
              "            style=\"display:none;\">\n",
              "\n",
              "<svg xmlns=\"http://www.w3.org/2000/svg\" height=\"24px\"viewBox=\"0 0 24 24\"\n",
              "     width=\"24px\">\n",
              "    <g>\n",
              "        <path d=\"M19 3H5c-1.1 0-2 .9-2 2v14c0 1.1.9 2 2 2h14c1.1 0 2-.9 2-2V5c0-1.1-.9-2-2-2zM9 17H7v-7h2v7zm4 0h-2V7h2v10zm4 0h-2v-4h2v4z\"/>\n",
              "    </g>\n",
              "</svg>\n",
              "  </button>\n",
              "\n",
              "<style>\n",
              "  .colab-df-quickchart {\n",
              "      --bg-color: #E8F0FE;\n",
              "      --fill-color: #1967D2;\n",
              "      --hover-bg-color: #E2EBFA;\n",
              "      --hover-fill-color: #174EA6;\n",
              "      --disabled-fill-color: #AAA;\n",
              "      --disabled-bg-color: #DDD;\n",
              "  }\n",
              "\n",
              "  [theme=dark] .colab-df-quickchart {\n",
              "      --bg-color: #3B4455;\n",
              "      --fill-color: #D2E3FC;\n",
              "      --hover-bg-color: #434B5C;\n",
              "      --hover-fill-color: #FFFFFF;\n",
              "      --disabled-bg-color: #3B4455;\n",
              "      --disabled-fill-color: #666;\n",
              "  }\n",
              "\n",
              "  .colab-df-quickchart {\n",
              "    background-color: var(--bg-color);\n",
              "    border: none;\n",
              "    border-radius: 50%;\n",
              "    cursor: pointer;\n",
              "    display: none;\n",
              "    fill: var(--fill-color);\n",
              "    height: 32px;\n",
              "    padding: 0;\n",
              "    width: 32px;\n",
              "  }\n",
              "\n",
              "  .colab-df-quickchart:hover {\n",
              "    background-color: var(--hover-bg-color);\n",
              "    box-shadow: 0 1px 2px rgba(60, 64, 67, 0.3), 0 1px 3px 1px rgba(60, 64, 67, 0.15);\n",
              "    fill: var(--button-hover-fill-color);\n",
              "  }\n",
              "\n",
              "  .colab-df-quickchart-complete:disabled,\n",
              "  .colab-df-quickchart-complete:disabled:hover {\n",
              "    background-color: var(--disabled-bg-color);\n",
              "    fill: var(--disabled-fill-color);\n",
              "    box-shadow: none;\n",
              "  }\n",
              "\n",
              "  .colab-df-spinner {\n",
              "    border: 2px solid var(--fill-color);\n",
              "    border-color: transparent;\n",
              "    border-bottom-color: var(--fill-color);\n",
              "    animation:\n",
              "      spin 1s steps(1) infinite;\n",
              "  }\n",
              "\n",
              "  @keyframes spin {\n",
              "    0% {\n",
              "      border-color: transparent;\n",
              "      border-bottom-color: var(--fill-color);\n",
              "      border-left-color: var(--fill-color);\n",
              "    }\n",
              "    20% {\n",
              "      border-color: transparent;\n",
              "      border-left-color: var(--fill-color);\n",
              "      border-top-color: var(--fill-color);\n",
              "    }\n",
              "    30% {\n",
              "      border-color: transparent;\n",
              "      border-left-color: var(--fill-color);\n",
              "      border-top-color: var(--fill-color);\n",
              "      border-right-color: var(--fill-color);\n",
              "    }\n",
              "    40% {\n",
              "      border-color: transparent;\n",
              "      border-right-color: var(--fill-color);\n",
              "      border-top-color: var(--fill-color);\n",
              "    }\n",
              "    60% {\n",
              "      border-color: transparent;\n",
              "      border-right-color: var(--fill-color);\n",
              "    }\n",
              "    80% {\n",
              "      border-color: transparent;\n",
              "      border-right-color: var(--fill-color);\n",
              "      border-bottom-color: var(--fill-color);\n",
              "    }\n",
              "    90% {\n",
              "      border-color: transparent;\n",
              "      border-bottom-color: var(--fill-color);\n",
              "    }\n",
              "  }\n",
              "</style>\n",
              "\n",
              "  <script>\n",
              "    async function quickchart(key) {\n",
              "      const quickchartButtonEl =\n",
              "        document.querySelector('#' + key + ' button');\n",
              "      quickchartButtonEl.disabled = true;  // To prevent multiple clicks.\n",
              "      quickchartButtonEl.classList.add('colab-df-spinner');\n",
              "      try {\n",
              "        const charts = await google.colab.kernel.invokeFunction(\n",
              "            'suggestCharts', [key], {});\n",
              "      } catch (error) {\n",
              "        console.error('Error during call to suggestCharts:', error);\n",
              "      }\n",
              "      quickchartButtonEl.classList.remove('colab-df-spinner');\n",
              "      quickchartButtonEl.classList.add('colab-df-quickchart-complete');\n",
              "    }\n",
              "    (() => {\n",
              "      let quickchartButtonEl =\n",
              "        document.querySelector('#df-6ab0f394-a1e4-4abc-9600-f3b3a9d82d19 button');\n",
              "      quickchartButtonEl.style.display =\n",
              "        google.colab.kernel.accessAllowed ? 'block' : 'none';\n",
              "    })();\n",
              "  </script>\n",
              "</div>\n",
              "\n",
              "    </div>\n",
              "  </div>\n"
            ],
            "application/vnd.google.colaboratory.intrinsic+json": {
              "type": "dataframe",
              "variable_name": "nbaPStats"
            }
          },
          "metadata": {},
          "execution_count": 25
        }
      ]
    },
    {
      "cell_type": "markdown",
      "source": [
        "No more 'Rk' values, so this was successful!"
      ],
      "metadata": {
        "id": "vdVVo2opasOg"
      }
    },
    {
      "cell_type": "markdown",
      "source": [
        "I talked about this ealier but I am now going to add a column for true shooting percentage, which combines all types of scoring to aproximate how effecient of a shooter a certain player is. This is a standardized calculation. Throughout this project we hope top come up with some of out own advanced nba stats that would be useful."
      ],
      "metadata": {
        "id": "rMUF_-TJaHoy"
      }
    },
    {
      "cell_type": "code",
      "source": [
        "nbaPStats['TS%'] = (nbaPStats['PTS']/2) / (nbaPStats['FGA'] + (nbaPStats['FTA'] * 0.475))\n",
        "nbaPStats['TS%']"
      ],
      "metadata": {
        "colab": {
          "base_uri": "https://localhost:8080/"
        },
        "id": "vF647yRbaDAu",
        "outputId": "86b4d69d-ea4e-40ad-87ad-f13b85712d7f"
      },
      "execution_count": 26,
      "outputs": [
        {
          "output_type": "execute_result",
          "data": {
            "text/plain": [
              "0        0.403873\n",
              "1        0.450863\n",
              "2        0.554588\n",
              "3        0.539461\n",
              "4        0.514286\n",
              "           ...   \n",
              "14568    0.527197\n",
              "14569    0.597455\n",
              "14570    0.538344\n",
              "14571    0.625752\n",
              "14572    0.649842\n",
              "Name: TS%, Length: 14573, dtype: float64"
            ]
          },
          "metadata": {},
          "execution_count": 26
        }
      ]
    },
    {
      "cell_type": "markdown",
      "source": [
        "Now we have true shooting precentage in our dataframe!!!"
      ],
      "metadata": {
        "id": "RC7ap4PfbuOJ"
      }
    }
  ]
}